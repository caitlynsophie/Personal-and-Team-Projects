{
 "cells": [
  {
   "cell_type": "code",
   "execution_count": 1,
   "id": "987ba5b7",
   "metadata": {
    "_cell_guid": "b1076dfc-b9ad-4769-8c92-a6c4dae69d19",
    "_uuid": "8f2839f25d086af736a60e9eeb907d3b93b6e0e5",
    "execution": {
     "iopub.execute_input": "2022-05-08T15:07:51.353329Z",
     "iopub.status.busy": "2022-05-08T15:07:51.352937Z",
     "iopub.status.idle": "2022-05-08T15:07:51.368599Z",
     "shell.execute_reply": "2022-05-08T15:07:51.367738Z"
    },
    "papermill": {
     "duration": 0.084554,
     "end_time": "2022-05-08T15:07:51.371218",
     "exception": false,
     "start_time": "2022-05-08T15:07:51.286664",
     "status": "completed"
    },
    "tags": []
   },
   "outputs": [],
   "source": [
    "import numpy as np\n",
    "import pandas as pd"
   ]
  },
  {
   "cell_type": "code",
   "execution_count": 39,
   "id": "22734336",
   "metadata": {
    "execution": {
     "iopub.execute_input": "2022-05-08T15:07:51.783837Z",
     "iopub.status.busy": "2022-05-08T15:07:51.783401Z",
     "iopub.status.idle": "2022-05-08T15:07:56.089313Z",
     "shell.execute_reply": "2022-05-08T15:07:56.088465Z"
    },
    "papermill": {
     "duration": 4.373626,
     "end_time": "2022-05-08T15:07:56.091632",
     "exception": false,
     "start_time": "2022-05-08T15:07:51.718006",
     "status": "completed"
    },
    "tags": []
   },
   "outputs": [],
   "source": [
    "#Visualization libraries\n",
    "import matplotlib.pyplot as plt \n",
    "from matplotlib import rcParams\n",
    "import seaborn as sns\n",
    "from plotly import tools\n",
    "import plotly.graph_objs as go\n",
    "from plotly.offline import iplot\n",
    "\n",
    "%matplotlib inline\n",
    "\n",
    "#Others\n",
    "from collections import defaultdict"
   ]
  },
  {
   "cell_type": "markdown",
   "id": "edd1355e",
   "metadata": {
    "papermill": {
     "duration": 0.064573,
     "end_time": "2022-05-08T15:07:56.220884",
     "exception": false,
     "start_time": "2022-05-08T15:07:56.156311",
     "status": "completed"
    },
    "tags": []
   },
   "source": [
    "# **Importing the Dataset**"
   ]
  },
  {
   "cell_type": "code",
   "execution_count": 3,
   "id": "6064efd7",
   "metadata": {
    "execution": {
     "iopub.execute_input": "2022-05-08T15:07:56.351489Z",
     "iopub.status.busy": "2022-05-08T15:07:56.351178Z",
     "iopub.status.idle": "2022-05-08T15:07:56.531095Z",
     "shell.execute_reply": "2022-05-08T15:07:56.530262Z"
    },
    "papermill": {
     "duration": 0.248255,
     "end_time": "2022-05-08T15:07:56.533734",
     "exception": false,
     "start_time": "2022-05-08T15:07:56.285479",
     "status": "completed"
    },
    "tags": []
   },
   "outputs": [
    {
     "name": "stdout",
     "output_type": "stream",
     "text": [
      "Amazon Reviews for sentiment Analysis Dataset:\n"
     ]
    },
    {
     "data": {
      "text/html": [
       "<div>\n",
       "<style scoped>\n",
       "    .dataframe tbody tr th:only-of-type {\n",
       "        vertical-align: middle;\n",
       "    }\n",
       "\n",
       "    .dataframe tbody tr th {\n",
       "        vertical-align: top;\n",
       "    }\n",
       "\n",
       "    .dataframe thead th {\n",
       "        text-align: right;\n",
       "    }\n",
       "</style>\n",
       "<table border=\"1\" class=\"dataframe\">\n",
       "  <thead>\n",
       "    <tr style=\"text-align: right;\">\n",
       "      <th></th>\n",
       "      <th>reviewerID</th>\n",
       "      <th>asin</th>\n",
       "      <th>reviewerName</th>\n",
       "      <th>helpful</th>\n",
       "      <th>reviewText</th>\n",
       "      <th>overall</th>\n",
       "      <th>summary</th>\n",
       "      <th>unixReviewTime</th>\n",
       "      <th>reviewTime</th>\n",
       "    </tr>\n",
       "  </thead>\n",
       "  <tbody>\n",
       "    <tr>\n",
       "      <th>0</th>\n",
       "      <td>A2IBPI20UZIR0U</td>\n",
       "      <td>1384719342</td>\n",
       "      <td>cassandra tu \"Yeah, well, that's just like, u...</td>\n",
       "      <td>[0, 0]</td>\n",
       "      <td>Not much to write about here, but it does exac...</td>\n",
       "      <td>5.0</td>\n",
       "      <td>good</td>\n",
       "      <td>1393545600</td>\n",
       "      <td>02 28, 2014</td>\n",
       "    </tr>\n",
       "    <tr>\n",
       "      <th>1</th>\n",
       "      <td>A14VAT5EAX3D9S</td>\n",
       "      <td>1384719342</td>\n",
       "      <td>Jake</td>\n",
       "      <td>[13, 14]</td>\n",
       "      <td>The product does exactly as it should and is q...</td>\n",
       "      <td>5.0</td>\n",
       "      <td>Jake</td>\n",
       "      <td>1363392000</td>\n",
       "      <td>03 16, 2013</td>\n",
       "    </tr>\n",
       "    <tr>\n",
       "      <th>2</th>\n",
       "      <td>A195EZSQDW3E21</td>\n",
       "      <td>1384719342</td>\n",
       "      <td>Rick Bennette \"Rick Bennette\"</td>\n",
       "      <td>[1, 1]</td>\n",
       "      <td>The primary job of this device is to block the...</td>\n",
       "      <td>5.0</td>\n",
       "      <td>It Does The Job Well</td>\n",
       "      <td>1377648000</td>\n",
       "      <td>08 28, 2013</td>\n",
       "    </tr>\n",
       "    <tr>\n",
       "      <th>3</th>\n",
       "      <td>A2C00NNG1ZQQG2</td>\n",
       "      <td>1384719342</td>\n",
       "      <td>RustyBill \"Sunday Rocker\"</td>\n",
       "      <td>[0, 0]</td>\n",
       "      <td>Nice windscreen protects my MXL mic and preven...</td>\n",
       "      <td>5.0</td>\n",
       "      <td>GOOD WINDSCREEN FOR THE MONEY</td>\n",
       "      <td>1392336000</td>\n",
       "      <td>02 14, 2014</td>\n",
       "    </tr>\n",
       "    <tr>\n",
       "      <th>4</th>\n",
       "      <td>A94QU4C90B1AX</td>\n",
       "      <td>1384719342</td>\n",
       "      <td>SEAN MASLANKA</td>\n",
       "      <td>[0, 0]</td>\n",
       "      <td>This pop filter is great. It looks and perform...</td>\n",
       "      <td>5.0</td>\n",
       "      <td>No more pops when I record my vocals.</td>\n",
       "      <td>1392940800</td>\n",
       "      <td>02 21, 2014</td>\n",
       "    </tr>\n",
       "    <tr>\n",
       "      <th>...</th>\n",
       "      <td>...</td>\n",
       "      <td>...</td>\n",
       "      <td>...</td>\n",
       "      <td>...</td>\n",
       "      <td>...</td>\n",
       "      <td>...</td>\n",
       "      <td>...</td>\n",
       "      <td>...</td>\n",
       "      <td>...</td>\n",
       "    </tr>\n",
       "    <tr>\n",
       "      <th>10256</th>\n",
       "      <td>A14B2YH83ZXMPP</td>\n",
       "      <td>B00JBIVXGC</td>\n",
       "      <td>Lonnie M. Adams</td>\n",
       "      <td>[0, 0]</td>\n",
       "      <td>Great, just as expected.  Thank to all.</td>\n",
       "      <td>5.0</td>\n",
       "      <td>Five Stars</td>\n",
       "      <td>1405814400</td>\n",
       "      <td>07 20, 2014</td>\n",
       "    </tr>\n",
       "    <tr>\n",
       "      <th>10257</th>\n",
       "      <td>A1RPTVW5VEOSI</td>\n",
       "      <td>B00JBIVXGC</td>\n",
       "      <td>Michael J. Edelman</td>\n",
       "      <td>[0, 0]</td>\n",
       "      <td>I've been thinking about trying the Nanoweb st...</td>\n",
       "      <td>5.0</td>\n",
       "      <td>Long life, and for some players, a good econom...</td>\n",
       "      <td>1404259200</td>\n",
       "      <td>07 2, 2014</td>\n",
       "    </tr>\n",
       "    <tr>\n",
       "      <th>10258</th>\n",
       "      <td>AWCJ12KBO5VII</td>\n",
       "      <td>B00JBIVXGC</td>\n",
       "      <td>Michael L. Knapp</td>\n",
       "      <td>[0, 0]</td>\n",
       "      <td>I have tried coated strings in the past ( incl...</td>\n",
       "      <td>4.0</td>\n",
       "      <td>Good for coated.</td>\n",
       "      <td>1405987200</td>\n",
       "      <td>07 22, 2014</td>\n",
       "    </tr>\n",
       "    <tr>\n",
       "      <th>10259</th>\n",
       "      <td>A2Z7S8B5U4PAKJ</td>\n",
       "      <td>B00JBIVXGC</td>\n",
       "      <td>Rick Langdon \"Scriptor\"</td>\n",
       "      <td>[0, 0]</td>\n",
       "      <td>Well, MADE by Elixir and DEVELOPED with Taylor...</td>\n",
       "      <td>4.0</td>\n",
       "      <td>Taylor Made</td>\n",
       "      <td>1404172800</td>\n",
       "      <td>07 1, 2014</td>\n",
       "    </tr>\n",
       "    <tr>\n",
       "      <th>10260</th>\n",
       "      <td>A2WA8TDCTGUADI</td>\n",
       "      <td>B00JBIVXGC</td>\n",
       "      <td>TheTerrorBeyond</td>\n",
       "      <td>[0, 0]</td>\n",
       "      <td>These strings are really quite good, but I wou...</td>\n",
       "      <td>4.0</td>\n",
       "      <td>These strings are really quite good, but I wou...</td>\n",
       "      <td>1405468800</td>\n",
       "      <td>07 16, 2014</td>\n",
       "    </tr>\n",
       "  </tbody>\n",
       "</table>\n",
       "<p>10261 rows × 9 columns</p>\n",
       "</div>"
      ],
      "text/plain": [
       "           reviewerID        asin  \\\n",
       "0      A2IBPI20UZIR0U  1384719342   \n",
       "1      A14VAT5EAX3D9S  1384719342   \n",
       "2      A195EZSQDW3E21  1384719342   \n",
       "3      A2C00NNG1ZQQG2  1384719342   \n",
       "4       A94QU4C90B1AX  1384719342   \n",
       "...               ...         ...   \n",
       "10256  A14B2YH83ZXMPP  B00JBIVXGC   \n",
       "10257   A1RPTVW5VEOSI  B00JBIVXGC   \n",
       "10258   AWCJ12KBO5VII  B00JBIVXGC   \n",
       "10259  A2Z7S8B5U4PAKJ  B00JBIVXGC   \n",
       "10260  A2WA8TDCTGUADI  B00JBIVXGC   \n",
       "\n",
       "                                           reviewerName   helpful  \\\n",
       "0      cassandra tu \"Yeah, well, that's just like, u...    [0, 0]   \n",
       "1                                                  Jake  [13, 14]   \n",
       "2                         Rick Bennette \"Rick Bennette\"    [1, 1]   \n",
       "3                             RustyBill \"Sunday Rocker\"    [0, 0]   \n",
       "4                                         SEAN MASLANKA    [0, 0]   \n",
       "...                                                 ...       ...   \n",
       "10256                                   Lonnie M. Adams    [0, 0]   \n",
       "10257                                Michael J. Edelman    [0, 0]   \n",
       "10258                                  Michael L. Knapp    [0, 0]   \n",
       "10259                           Rick Langdon \"Scriptor\"    [0, 0]   \n",
       "10260                                   TheTerrorBeyond    [0, 0]   \n",
       "\n",
       "                                              reviewText  overall  \\\n",
       "0      Not much to write about here, but it does exac...      5.0   \n",
       "1      The product does exactly as it should and is q...      5.0   \n",
       "2      The primary job of this device is to block the...      5.0   \n",
       "3      Nice windscreen protects my MXL mic and preven...      5.0   \n",
       "4      This pop filter is great. It looks and perform...      5.0   \n",
       "...                                                  ...      ...   \n",
       "10256            Great, just as expected.  Thank to all.      5.0   \n",
       "10257  I've been thinking about trying the Nanoweb st...      5.0   \n",
       "10258  I have tried coated strings in the past ( incl...      4.0   \n",
       "10259  Well, MADE by Elixir and DEVELOPED with Taylor...      4.0   \n",
       "10260  These strings are really quite good, but I wou...      4.0   \n",
       "\n",
       "                                                 summary  unixReviewTime  \\\n",
       "0                                                   good      1393545600   \n",
       "1                                                   Jake      1363392000   \n",
       "2                                   It Does The Job Well      1377648000   \n",
       "3                          GOOD WINDSCREEN FOR THE MONEY      1392336000   \n",
       "4                  No more pops when I record my vocals.      1392940800   \n",
       "...                                                  ...             ...   \n",
       "10256                                         Five Stars      1405814400   \n",
       "10257  Long life, and for some players, a good econom...      1404259200   \n",
       "10258                                   Good for coated.      1405987200   \n",
       "10259                                        Taylor Made      1404172800   \n",
       "10260  These strings are really quite good, but I wou...      1405468800   \n",
       "\n",
       "        reviewTime  \n",
       "0      02 28, 2014  \n",
       "1      03 16, 2013  \n",
       "2      08 28, 2013  \n",
       "3      02 14, 2014  \n",
       "4      02 21, 2014  \n",
       "...            ...  \n",
       "10256  07 20, 2014  \n",
       "10257   07 2, 2014  \n",
       "10258  07 22, 2014  \n",
       "10259   07 1, 2014  \n",
       "10260  07 16, 2014  \n",
       "\n",
       "[10261 rows x 9 columns]"
      ]
     },
     "execution_count": 3,
     "metadata": {},
     "output_type": "execute_result"
    }
   ],
   "source": [
    "reviews = pd.read_csv('./Musical_instruments_reviews.csv')\n",
    "print('Amazon Reviews for sentiment Analysis Dataset:')\n",
    "reviews"
   ]
  },
  {
   "cell_type": "code",
   "execution_count": 4,
   "id": "f5845db0",
   "metadata": {
    "execution": {
     "iopub.execute_input": "2022-05-08T15:07:56.665883Z",
     "iopub.status.busy": "2022-05-08T15:07:56.665359Z",
     "iopub.status.idle": "2022-05-08T15:07:56.690688Z",
     "shell.execute_reply": "2022-05-08T15:07:56.689609Z"
    },
    "papermill": {
     "duration": 0.094216,
     "end_time": "2022-05-08T15:07:56.693394",
     "exception": false,
     "start_time": "2022-05-08T15:07:56.599178",
     "status": "completed"
    },
    "tags": []
   },
   "outputs": [
    {
     "name": "stdout",
     "output_type": "stream",
     "text": [
      "<class 'pandas.core.frame.DataFrame'>\n",
      "RangeIndex: 10261 entries, 0 to 10260\n",
      "Data columns (total 9 columns):\n",
      " #   Column          Non-Null Count  Dtype  \n",
      "---  ------          --------------  -----  \n",
      " 0   reviewerID      10261 non-null  object \n",
      " 1   asin            10261 non-null  object \n",
      " 2   reviewerName    10234 non-null  object \n",
      " 3   helpful         10261 non-null  object \n",
      " 4   reviewText      10254 non-null  object \n",
      " 5   overall         10261 non-null  float64\n",
      " 6   summary         10261 non-null  object \n",
      " 7   unixReviewTime  10261 non-null  int64  \n",
      " 8   reviewTime      10261 non-null  object \n",
      "dtypes: float64(1), int64(1), object(7)\n",
      "memory usage: 721.6+ KB\n"
     ]
    }
   ],
   "source": [
    "reviews.info()"
   ]
  },
  {
   "cell_type": "markdown",
   "id": "62e3ec10",
   "metadata": {
    "papermill": {
     "duration": 0.064645,
     "end_time": "2022-05-08T15:07:56.823762",
     "exception": false,
     "start_time": "2022-05-08T15:07:56.759117",
     "status": "completed"
    },
    "tags": []
   },
   "source": [
    "## Dataset Attributes\n",
    "Description indicated in Kaggle Dataset \"https://www.kaggle.com/datasets/eswarchandt/amazon-music-reviews/data\"\n",
    "\n",
    "\n",
    "    This dataset has reviewer ID , User ID, Reviewer Name, Reviewer text, helpful, Summary(obtained from Reviewer text), Overall Rating on a scale 5 and Review time.\n",
    "\n",
    "    Description of columns in the file:\n",
    "\n",
    "    1. reviewerID - ID of the reviewer, e.g. A2SUAM1J3GNN3B\n",
    "    2. asin - ID of the product, e.g. 0000013714\n",
    "    3. reviewerName - name of the reviewer\n",
    "    4. helpful - helpfulness rating of the review, e.g. 2/3\n",
    "    5. reviewText - text of the review\n",
    "    6. overall - rating of the product\n",
    "    7. summary - summary of the review\n",
    "    8. unixReviewTime - time of the review (unix time)\n",
    "    9. reviewTime - time of the review (raw)"
   ]
  },
  {
   "cell_type": "code",
   "execution_count": 5,
   "id": "0fe747a5",
   "metadata": {
    "execution": {
     "iopub.execute_input": "2022-05-08T15:07:56.955806Z",
     "iopub.status.busy": "2022-05-08T15:07:56.955411Z",
     "iopub.status.idle": "2022-05-08T15:07:56.967437Z",
     "shell.execute_reply": "2022-05-08T15:07:56.966890Z"
    },
    "papermill": {
     "duration": 0.079807,
     "end_time": "2022-05-08T15:07:56.969054",
     "exception": false,
     "start_time": "2022-05-08T15:07:56.889247",
     "status": "completed"
    },
    "tags": []
   },
   "outputs": [
    {
     "data": {
      "text/html": [
       "<div>\n",
       "<style scoped>\n",
       "    .dataframe tbody tr th:only-of-type {\n",
       "        vertical-align: middle;\n",
       "    }\n",
       "\n",
       "    .dataframe tbody tr th {\n",
       "        vertical-align: top;\n",
       "    }\n",
       "\n",
       "    .dataframe thead th {\n",
       "        text-align: right;\n",
       "    }\n",
       "</style>\n",
       "<table border=\"1\" class=\"dataframe\">\n",
       "  <thead>\n",
       "    <tr style=\"text-align: right;\">\n",
       "      <th></th>\n",
       "      <th>reviewerID</th>\n",
       "      <th>asin</th>\n",
       "      <th>reviewerName</th>\n",
       "      <th>helpful</th>\n",
       "      <th>reviewText</th>\n",
       "      <th>overall</th>\n",
       "      <th>summary</th>\n",
       "      <th>unixReviewTime</th>\n",
       "      <th>reviewTime</th>\n",
       "    </tr>\n",
       "  </thead>\n",
       "  <tbody>\n",
       "    <tr>\n",
       "      <th>0</th>\n",
       "      <td>A2IBPI20UZIR0U</td>\n",
       "      <td>1384719342</td>\n",
       "      <td>cassandra tu \"Yeah, well, that's just like, u...</td>\n",
       "      <td>[0, 0]</td>\n",
       "      <td>Not much to write about here, but it does exac...</td>\n",
       "      <td>5.0</td>\n",
       "      <td>good</td>\n",
       "      <td>1393545600</td>\n",
       "      <td>02 28, 2014</td>\n",
       "    </tr>\n",
       "    <tr>\n",
       "      <th>1</th>\n",
       "      <td>A14VAT5EAX3D9S</td>\n",
       "      <td>1384719342</td>\n",
       "      <td>Jake</td>\n",
       "      <td>[13, 14]</td>\n",
       "      <td>The product does exactly as it should and is q...</td>\n",
       "      <td>5.0</td>\n",
       "      <td>Jake</td>\n",
       "      <td>1363392000</td>\n",
       "      <td>03 16, 2013</td>\n",
       "    </tr>\n",
       "    <tr>\n",
       "      <th>2</th>\n",
       "      <td>A195EZSQDW3E21</td>\n",
       "      <td>1384719342</td>\n",
       "      <td>Rick Bennette \"Rick Bennette\"</td>\n",
       "      <td>[1, 1]</td>\n",
       "      <td>The primary job of this device is to block the...</td>\n",
       "      <td>5.0</td>\n",
       "      <td>It Does The Job Well</td>\n",
       "      <td>1377648000</td>\n",
       "      <td>08 28, 2013</td>\n",
       "    </tr>\n",
       "    <tr>\n",
       "      <th>3</th>\n",
       "      <td>A2C00NNG1ZQQG2</td>\n",
       "      <td>1384719342</td>\n",
       "      <td>RustyBill \"Sunday Rocker\"</td>\n",
       "      <td>[0, 0]</td>\n",
       "      <td>Nice windscreen protects my MXL mic and preven...</td>\n",
       "      <td>5.0</td>\n",
       "      <td>GOOD WINDSCREEN FOR THE MONEY</td>\n",
       "      <td>1392336000</td>\n",
       "      <td>02 14, 2014</td>\n",
       "    </tr>\n",
       "    <tr>\n",
       "      <th>4</th>\n",
       "      <td>A94QU4C90B1AX</td>\n",
       "      <td>1384719342</td>\n",
       "      <td>SEAN MASLANKA</td>\n",
       "      <td>[0, 0]</td>\n",
       "      <td>This pop filter is great. It looks and perform...</td>\n",
       "      <td>5.0</td>\n",
       "      <td>No more pops when I record my vocals.</td>\n",
       "      <td>1392940800</td>\n",
       "      <td>02 21, 2014</td>\n",
       "    </tr>\n",
       "  </tbody>\n",
       "</table>\n",
       "</div>"
      ],
      "text/plain": [
       "       reviewerID        asin  \\\n",
       "0  A2IBPI20UZIR0U  1384719342   \n",
       "1  A14VAT5EAX3D9S  1384719342   \n",
       "2  A195EZSQDW3E21  1384719342   \n",
       "3  A2C00NNG1ZQQG2  1384719342   \n",
       "4   A94QU4C90B1AX  1384719342   \n",
       "\n",
       "                                       reviewerName   helpful  \\\n",
       "0  cassandra tu \"Yeah, well, that's just like, u...    [0, 0]   \n",
       "1                                              Jake  [13, 14]   \n",
       "2                     Rick Bennette \"Rick Bennette\"    [1, 1]   \n",
       "3                         RustyBill \"Sunday Rocker\"    [0, 0]   \n",
       "4                                     SEAN MASLANKA    [0, 0]   \n",
       "\n",
       "                                          reviewText  overall  \\\n",
       "0  Not much to write about here, but it does exac...      5.0   \n",
       "1  The product does exactly as it should and is q...      5.0   \n",
       "2  The primary job of this device is to block the...      5.0   \n",
       "3  Nice windscreen protects my MXL mic and preven...      5.0   \n",
       "4  This pop filter is great. It looks and perform...      5.0   \n",
       "\n",
       "                                 summary  unixReviewTime   reviewTime  \n",
       "0                                   good      1393545600  02 28, 2014  \n",
       "1                                   Jake      1363392000  03 16, 2013  \n",
       "2                   It Does The Job Well      1377648000  08 28, 2013  \n",
       "3          GOOD WINDSCREEN FOR THE MONEY      1392336000  02 14, 2014  \n",
       "4  No more pops when I record my vocals.      1392940800  02 21, 2014  "
      ]
     },
     "execution_count": 5,
     "metadata": {},
     "output_type": "execute_result"
    }
   ],
   "source": [
    "reviews.head()"
   ]
  },
  {
   "cell_type": "markdown",
   "id": "28d028dd",
   "metadata": {
    "papermill": {
     "duration": 0.067335,
     "end_time": "2022-05-08T15:07:57.101771",
     "exception": false,
     "start_time": "2022-05-08T15:07:57.034436",
     "status": "completed"
    },
    "tags": []
   },
   "source": [
    "# Data Preprocessing"
   ]
  },
  {
   "cell_type": "code",
   "execution_count": 6,
   "id": "31198d0b",
   "metadata": {
    "execution": {
     "iopub.execute_input": "2022-05-08T15:07:57.235472Z",
     "iopub.status.busy": "2022-05-08T15:07:57.234830Z",
     "iopub.status.idle": "2022-05-08T15:07:57.247040Z",
     "shell.execute_reply": "2022-05-08T15:07:57.246187Z"
    },
    "papermill": {
     "duration": 0.081039,
     "end_time": "2022-05-08T15:07:57.248841",
     "exception": false,
     "start_time": "2022-05-08T15:07:57.167802",
     "status": "completed"
    },
    "tags": []
   },
   "outputs": [
    {
     "name": "stdout",
     "output_type": "stream",
     "text": [
      "The null values in the dataset:\n"
     ]
    },
    {
     "data": {
      "text/plain": [
       "reviewerID         0\n",
       "asin               0\n",
       "reviewerName      27\n",
       "helpful            0\n",
       "reviewText         7\n",
       "overall            0\n",
       "summary            0\n",
       "unixReviewTime     0\n",
       "reviewTime         0\n",
       "dtype: int64"
      ]
     },
     "execution_count": 6,
     "metadata": {},
     "output_type": "execute_result"
    }
   ],
   "source": [
    "#Checking for null values\n",
    "print('The null values in the dataset:')\n",
    "reviews.isnull().sum()"
   ]
  },
  {
   "cell_type": "markdown",
   "id": "363f59a3",
   "metadata": {
    "papermill": {
     "duration": 0.065841,
     "end_time": "2022-05-08T15:07:57.380069",
     "exception": false,
     "start_time": "2022-05-08T15:07:57.314228",
     "status": "completed"
    },
    "tags": []
   },
   "source": [
    "We are not really concerned with reviewerName. As for reviewText, since there are only a few missing values, we opt to drop them."
   ]
  },
  {
   "cell_type": "code",
   "execution_count": 7,
   "id": "1b2eaaf2",
   "metadata": {
    "execution": {
     "iopub.execute_input": "2022-05-08T15:07:57.657980Z",
     "iopub.status.busy": "2022-05-08T15:07:57.657355Z",
     "iopub.status.idle": "2022-05-08T15:07:57.668700Z",
     "shell.execute_reply": "2022-05-08T15:07:57.668126Z"
    },
    "papermill": {
     "duration": 0.081044,
     "end_time": "2022-05-08T15:07:57.670294",
     "exception": false,
     "start_time": "2022-05-08T15:07:57.589250",
     "status": "completed"
    },
    "tags": []
   },
   "outputs": [
    {
     "data": {
      "text/plain": [
       "reviewerID         0\n",
       "asin               0\n",
       "reviewerName      27\n",
       "helpful            0\n",
       "reviewText         0\n",
       "overall            0\n",
       "summary            0\n",
       "unixReviewTime     0\n",
       "reviewTime         0\n",
       "dtype: int64"
      ]
     },
     "execution_count": 7,
     "metadata": {},
     "output_type": "execute_result"
    }
   ],
   "source": [
    "# Drop rows with null values in reviewText \n",
    "reviews = reviews.dropna(subset=\"reviewText\")\n",
    "reviews.isnull().sum()"
   ]
  },
  {
   "cell_type": "code",
   "execution_count": 8,
   "id": "7eb1eb9c",
   "metadata": {},
   "outputs": [
    {
     "data": {
      "text/html": [
       "<div>\n",
       "<style scoped>\n",
       "    .dataframe tbody tr th:only-of-type {\n",
       "        vertical-align: middle;\n",
       "    }\n",
       "\n",
       "    .dataframe tbody tr th {\n",
       "        vertical-align: top;\n",
       "    }\n",
       "\n",
       "    .dataframe thead th {\n",
       "        text-align: right;\n",
       "    }\n",
       "</style>\n",
       "<table border=\"1\" class=\"dataframe\">\n",
       "  <thead>\n",
       "    <tr style=\"text-align: right;\">\n",
       "      <th></th>\n",
       "      <th>reviewerID</th>\n",
       "      <th>asin</th>\n",
       "      <th>reviewerName</th>\n",
       "      <th>helpful</th>\n",
       "      <th>reviewText</th>\n",
       "      <th>overall</th>\n",
       "      <th>summary</th>\n",
       "      <th>unixReviewTime</th>\n",
       "      <th>reviewTime</th>\n",
       "    </tr>\n",
       "  </thead>\n",
       "  <tbody>\n",
       "    <tr>\n",
       "      <th>41</th>\n",
       "      <td>AA5TINW2RJ195</td>\n",
       "      <td>B000068NW5</td>\n",
       "      <td>NaN</td>\n",
       "      <td>[0, 0]</td>\n",
       "      <td>Good quality cable and sounds very good</td>\n",
       "      <td>5.0</td>\n",
       "      <td>Five Stars</td>\n",
       "      <td>1405382400</td>\n",
       "      <td>07 15, 2014</td>\n",
       "    </tr>\n",
       "    <tr>\n",
       "      <th>263</th>\n",
       "      <td>A14VAT5EAX3D9S</td>\n",
       "      <td>B0002CZSJO</td>\n",
       "      <td>NaN</td>\n",
       "      <td>[0, 0]</td>\n",
       "      <td>It is exactly what you need in a capo! You can...</td>\n",
       "      <td>5.0</td>\n",
       "      <td>Great</td>\n",
       "      <td>1364860800</td>\n",
       "      <td>04 2, 2013</td>\n",
       "    </tr>\n",
       "    <tr>\n",
       "      <th>264</th>\n",
       "      <td>A2RVY2GDMZHH4</td>\n",
       "      <td>B0002CZSJO</td>\n",
       "      <td>NaN</td>\n",
       "      <td>[0, 0]</td>\n",
       "      <td>Love these capos and nice that you can get the...</td>\n",
       "      <td>5.0</td>\n",
       "      <td>Always great Kyser</td>\n",
       "      <td>1356652800</td>\n",
       "      <td>12 28, 2012</td>\n",
       "    </tr>\n",
       "    <tr>\n",
       "      <th>432</th>\n",
       "      <td>A3BMYEA3J6RBVV</td>\n",
       "      <td>B0002CZVB4</td>\n",
       "      <td>NaN</td>\n",
       "      <td>[0, 0]</td>\n",
       "      <td>Bought it as a gift. Friend loved it very much.</td>\n",
       "      <td>5.0</td>\n",
       "      <td>Friend loved it very much</td>\n",
       "      <td>1405209600</td>\n",
       "      <td>07 13, 2014</td>\n",
       "    </tr>\n",
       "    <tr>\n",
       "      <th>667</th>\n",
       "      <td>AA5TINW2RJ195</td>\n",
       "      <td>B0002D01K4</td>\n",
       "      <td>NaN</td>\n",
       "      <td>[0, 0]</td>\n",
       "      <td>At first it look small for my guitar but it fi...</td>\n",
       "      <td>5.0</td>\n",
       "      <td>Love it!</td>\n",
       "      <td>1405382400</td>\n",
       "      <td>07 15, 2014</td>\n",
       "    </tr>\n",
       "    <tr>\n",
       "      <th>1001</th>\n",
       "      <td>A3NHUK1ISMZCFZ</td>\n",
       "      <td>B0002D0DWK</td>\n",
       "      <td>NaN</td>\n",
       "      <td>[0, 0]</td>\n",
       "      <td>The best buy for your bass drum</td>\n",
       "      <td>5.0</td>\n",
       "      <td>Five Stars</td>\n",
       "      <td>1405814400</td>\n",
       "      <td>07 20, 2014</td>\n",
       "    </tr>\n",
       "    <tr>\n",
       "      <th>2197</th>\n",
       "      <td>A3NK6WKA7GKRZS</td>\n",
       "      <td>B0002FOBJY</td>\n",
       "      <td>NaN</td>\n",
       "      <td>[0, 0]</td>\n",
       "      <td>Classic design.  I remember these from 35 year...</td>\n",
       "      <td>5.0</td>\n",
       "      <td>Excellent music stand</td>\n",
       "      <td>1385510400</td>\n",
       "      <td>11 27, 2013</td>\n",
       "    </tr>\n",
       "    <tr>\n",
       "      <th>2233</th>\n",
       "      <td>A2T8JRVJRVNX8R</td>\n",
       "      <td>B0002GJ6FC</td>\n",
       "      <td>NaN</td>\n",
       "      <td>[0, 0]</td>\n",
       "      <td>This headstand works like a charm. It's simple...</td>\n",
       "      <td>5.0</td>\n",
       "      <td>Best overall value</td>\n",
       "      <td>1405209600</td>\n",
       "      <td>07 13, 2014</td>\n",
       "    </tr>\n",
       "    <tr>\n",
       "      <th>2591</th>\n",
       "      <td>AA5TINW2RJ195</td>\n",
       "      <td>B0002GXV2Q</td>\n",
       "      <td>NaN</td>\n",
       "      <td>[0, 0]</td>\n",
       "      <td>Good short cable, plugs easy</td>\n",
       "      <td>4.0</td>\n",
       "      <td>Four Stars</td>\n",
       "      <td>1405382400</td>\n",
       "      <td>07 15, 2014</td>\n",
       "    </tr>\n",
       "    <tr>\n",
       "      <th>3962</th>\n",
       "      <td>A3NHUK1ISMZCFZ</td>\n",
       "      <td>B0009EU01G</td>\n",
       "      <td>NaN</td>\n",
       "      <td>[0, 0]</td>\n",
       "      <td>They say there the best there not wrong wool a...</td>\n",
       "      <td>5.0</td>\n",
       "      <td>Five Stars</td>\n",
       "      <td>1405814400</td>\n",
       "      <td>07 20, 2014</td>\n",
       "    </tr>\n",
       "    <tr>\n",
       "      <th>4200</th>\n",
       "      <td>AKP6IWJ24C1A5</td>\n",
       "      <td>B000B6DHB2</td>\n",
       "      <td>NaN</td>\n",
       "      <td>[0, 0]</td>\n",
       "      <td>This little amp kicks major ass, dood. I think...</td>\n",
       "      <td>5.0</td>\n",
       "      <td>Pretty solid for the price.</td>\n",
       "      <td>1405209600</td>\n",
       "      <td>07 13, 2014</td>\n",
       "    </tr>\n",
       "    <tr>\n",
       "      <th>4349</th>\n",
       "      <td>AKP6IWJ24C1A5</td>\n",
       "      <td>B000CBE3GE</td>\n",
       "      <td>NaN</td>\n",
       "      <td>[0, 0]</td>\n",
       "      <td>It's a flange pedal, what else? For the price ...</td>\n",
       "      <td>5.0</td>\n",
       "      <td>Great for the price!</td>\n",
       "      <td>1405209600</td>\n",
       "      <td>07 13, 2014</td>\n",
       "    </tr>\n",
       "    <tr>\n",
       "      <th>4370</th>\n",
       "      <td>AKP6IWJ24C1A5</td>\n",
       "      <td>B000CCJP4I</td>\n",
       "      <td>NaN</td>\n",
       "      <td>[0, 0]</td>\n",
       "      <td>For the price, it's worth it I guess. If you j...</td>\n",
       "      <td>4.0</td>\n",
       "      <td>Hair metal clean tones, hue.</td>\n",
       "      <td>1405209600</td>\n",
       "      <td>07 13, 2014</td>\n",
       "    </tr>\n",
       "    <tr>\n",
       "      <th>4710</th>\n",
       "      <td>AJUXP5GEE2VRP</td>\n",
       "      <td>B000EEN9OG</td>\n",
       "      <td>NaN</td>\n",
       "      <td>[0, 0]</td>\n",
       "      <td>Overdrive that wont drive you over...love it f...</td>\n",
       "      <td>4.0</td>\n",
       "      <td>Drive on over and get some</td>\n",
       "      <td>1405123200</td>\n",
       "      <td>07 12, 2014</td>\n",
       "    </tr>\n",
       "    <tr>\n",
       "      <th>4711</th>\n",
       "      <td>AKP6IWJ24C1A5</td>\n",
       "      <td>B000EEN9OG</td>\n",
       "      <td>NaN</td>\n",
       "      <td>[0, 0]</td>\n",
       "      <td>Works great for the price!! I just started to ...</td>\n",
       "      <td>5.0</td>\n",
       "      <td>Danelectro is alright.</td>\n",
       "      <td>1405209600</td>\n",
       "      <td>07 13, 2014</td>\n",
       "    </tr>\n",
       "    <tr>\n",
       "      <th>4769</th>\n",
       "      <td>A3MONHA5DCPPLZ</td>\n",
       "      <td>B000H2BC4E</td>\n",
       "      <td>NaN</td>\n",
       "      <td>[0, 0]</td>\n",
       "      <td>Works as advertised for my purpose. It is in f...</td>\n",
       "      <td>4.0</td>\n",
       "      <td>Using it as an amp for a TV set.</td>\n",
       "      <td>1405296000</td>\n",
       "      <td>07 14, 2014</td>\n",
       "    </tr>\n",
       "    <tr>\n",
       "      <th>5165</th>\n",
       "      <td>A3NHUK1ISMZCFZ</td>\n",
       "      <td>B000NJ2TIE</td>\n",
       "      <td>NaN</td>\n",
       "      <td>[0, 0]</td>\n",
       "      <td>There good mics</td>\n",
       "      <td>5.0</td>\n",
       "      <td>Five Stars</td>\n",
       "      <td>1405814400</td>\n",
       "      <td>07 20, 2014</td>\n",
       "    </tr>\n",
       "    <tr>\n",
       "      <th>5577</th>\n",
       "      <td>A3NHUK1ISMZCFZ</td>\n",
       "      <td>B000SZVYLQ</td>\n",
       "      <td>NaN</td>\n",
       "      <td>[0, 0]</td>\n",
       "      <td>Love these pedals good buy</td>\n",
       "      <td>5.0</td>\n",
       "      <td>Five Stars</td>\n",
       "      <td>1405814400</td>\n",
       "      <td>07 20, 2014</td>\n",
       "    </tr>\n",
       "    <tr>\n",
       "      <th>5936</th>\n",
       "      <td>AKP6IWJ24C1A5</td>\n",
       "      <td>B000XXBHA6</td>\n",
       "      <td>NaN</td>\n",
       "      <td>[0, 0]</td>\n",
       "      <td>I have no idea what happened or if anyone else...</td>\n",
       "      <td>1.0</td>\n",
       "      <td>Item was NOT like it was described. Be careful!!</td>\n",
       "      <td>1405209600</td>\n",
       "      <td>07 13, 2014</td>\n",
       "    </tr>\n",
       "    <tr>\n",
       "      <th>6937</th>\n",
       "      <td>A3NHUK1ISMZCFZ</td>\n",
       "      <td>B001REJX1U</td>\n",
       "      <td>NaN</td>\n",
       "      <td>[0, 0]</td>\n",
       "      <td>Works good.good buy</td>\n",
       "      <td>5.0</td>\n",
       "      <td>Five Stars</td>\n",
       "      <td>1405814400</td>\n",
       "      <td>07 20, 2014</td>\n",
       "    </tr>\n",
       "    <tr>\n",
       "      <th>7477</th>\n",
       "      <td>A38L9I59GH34O0</td>\n",
       "      <td>B002VA464S</td>\n",
       "      <td>NaN</td>\n",
       "      <td>[0, 0]</td>\n",
       "      <td>Despite the sensitivity of a compressor microp...</td>\n",
       "      <td>5.0</td>\n",
       "      <td>I use this for heavy metal guitar recording</td>\n",
       "      <td>1297555200</td>\n",
       "      <td>02 13, 2011</td>\n",
       "    </tr>\n",
       "    <tr>\n",
       "      <th>7478</th>\n",
       "      <td>A1WD8RFNIGRPDH</td>\n",
       "      <td>B002VA464S</td>\n",
       "      <td>NaN</td>\n",
       "      <td>[0, 0]</td>\n",
       "      <td>now it doesn't work(same day i got it). In my ...</td>\n",
       "      <td>3.0</td>\n",
       "      <td>Worked out of the box great</td>\n",
       "      <td>1363996800</td>\n",
       "      <td>03 23, 2013</td>\n",
       "    </tr>\n",
       "    <tr>\n",
       "      <th>7479</th>\n",
       "      <td>A3GSBNVP2LPFRB</td>\n",
       "      <td>B002VA464S</td>\n",
       "      <td>NaN</td>\n",
       "      <td>[0, 0]</td>\n",
       "      <td>This mic fits my studio need perfectly. It's U...</td>\n",
       "      <td>5.0</td>\n",
       "      <td>Great mic awesome price</td>\n",
       "      <td>1383436800</td>\n",
       "      <td>11 3, 2013</td>\n",
       "    </tr>\n",
       "    <tr>\n",
       "      <th>7480</th>\n",
       "      <td>A3CVZRPQH1PFQ5</td>\n",
       "      <td>B002VA464S</td>\n",
       "      <td>NaN</td>\n",
       "      <td>[1, 3]</td>\n",
       "      <td>Im starting a podcast. I blindly lept to buy t...</td>\n",
       "      <td>2.0</td>\n",
       "      <td>Great for one person without friends.</td>\n",
       "      <td>1376006400</td>\n",
       "      <td>08 9, 2013</td>\n",
       "    </tr>\n",
       "    <tr>\n",
       "      <th>7603</th>\n",
       "      <td>AA5TINW2RJ195</td>\n",
       "      <td>B0037M62AK</td>\n",
       "      <td>NaN</td>\n",
       "      <td>[0, 0]</td>\n",
       "      <td>Good strap, very comfortable and strong.</td>\n",
       "      <td>5.0</td>\n",
       "      <td>Five Stars</td>\n",
       "      <td>1405382400</td>\n",
       "      <td>07 15, 2014</td>\n",
       "    </tr>\n",
       "    <tr>\n",
       "      <th>7866</th>\n",
       "      <td>A3NHUK1ISMZCFZ</td>\n",
       "      <td>B003CLIPHO</td>\n",
       "      <td>NaN</td>\n",
       "      <td>[0, 0]</td>\n",
       "      <td>Works awesome :)</td>\n",
       "      <td>5.0</td>\n",
       "      <td>Five Stars</td>\n",
       "      <td>1405814400</td>\n",
       "      <td>07 20, 2014</td>\n",
       "    </tr>\n",
       "    <tr>\n",
       "      <th>9058</th>\n",
       "      <td>A3NHUK1ISMZCFZ</td>\n",
       "      <td>B005CX4GLE</td>\n",
       "      <td>NaN</td>\n",
       "      <td>[0, 0]</td>\n",
       "      <td>Work awesome :)</td>\n",
       "      <td>5.0</td>\n",
       "      <td>Five Stars</td>\n",
       "      <td>1405814400</td>\n",
       "      <td>07 20, 2014</td>\n",
       "    </tr>\n",
       "  </tbody>\n",
       "</table>\n",
       "</div>"
      ],
      "text/plain": [
       "          reviewerID        asin reviewerName helpful  \\\n",
       "41     AA5TINW2RJ195  B000068NW5          NaN  [0, 0]   \n",
       "263   A14VAT5EAX3D9S  B0002CZSJO          NaN  [0, 0]   \n",
       "264    A2RVY2GDMZHH4  B0002CZSJO          NaN  [0, 0]   \n",
       "432   A3BMYEA3J6RBVV  B0002CZVB4          NaN  [0, 0]   \n",
       "667    AA5TINW2RJ195  B0002D01K4          NaN  [0, 0]   \n",
       "1001  A3NHUK1ISMZCFZ  B0002D0DWK          NaN  [0, 0]   \n",
       "2197  A3NK6WKA7GKRZS  B0002FOBJY          NaN  [0, 0]   \n",
       "2233  A2T8JRVJRVNX8R  B0002GJ6FC          NaN  [0, 0]   \n",
       "2591   AA5TINW2RJ195  B0002GXV2Q          NaN  [0, 0]   \n",
       "3962  A3NHUK1ISMZCFZ  B0009EU01G          NaN  [0, 0]   \n",
       "4200   AKP6IWJ24C1A5  B000B6DHB2          NaN  [0, 0]   \n",
       "4349   AKP6IWJ24C1A5  B000CBE3GE          NaN  [0, 0]   \n",
       "4370   AKP6IWJ24C1A5  B000CCJP4I          NaN  [0, 0]   \n",
       "4710   AJUXP5GEE2VRP  B000EEN9OG          NaN  [0, 0]   \n",
       "4711   AKP6IWJ24C1A5  B000EEN9OG          NaN  [0, 0]   \n",
       "4769  A3MONHA5DCPPLZ  B000H2BC4E          NaN  [0, 0]   \n",
       "5165  A3NHUK1ISMZCFZ  B000NJ2TIE          NaN  [0, 0]   \n",
       "5577  A3NHUK1ISMZCFZ  B000SZVYLQ          NaN  [0, 0]   \n",
       "5936   AKP6IWJ24C1A5  B000XXBHA6          NaN  [0, 0]   \n",
       "6937  A3NHUK1ISMZCFZ  B001REJX1U          NaN  [0, 0]   \n",
       "7477  A38L9I59GH34O0  B002VA464S          NaN  [0, 0]   \n",
       "7478  A1WD8RFNIGRPDH  B002VA464S          NaN  [0, 0]   \n",
       "7479  A3GSBNVP2LPFRB  B002VA464S          NaN  [0, 0]   \n",
       "7480  A3CVZRPQH1PFQ5  B002VA464S          NaN  [1, 3]   \n",
       "7603   AA5TINW2RJ195  B0037M62AK          NaN  [0, 0]   \n",
       "7866  A3NHUK1ISMZCFZ  B003CLIPHO          NaN  [0, 0]   \n",
       "9058  A3NHUK1ISMZCFZ  B005CX4GLE          NaN  [0, 0]   \n",
       "\n",
       "                                             reviewText  overall  \\\n",
       "41              Good quality cable and sounds very good      5.0   \n",
       "263   It is exactly what you need in a capo! You can...      5.0   \n",
       "264   Love these capos and nice that you can get the...      5.0   \n",
       "432     Bought it as a gift. Friend loved it very much.      5.0   \n",
       "667   At first it look small for my guitar but it fi...      5.0   \n",
       "1001                    The best buy for your bass drum      5.0   \n",
       "2197  Classic design.  I remember these from 35 year...      5.0   \n",
       "2233  This headstand works like a charm. It's simple...      5.0   \n",
       "2591                       Good short cable, plugs easy      4.0   \n",
       "3962  They say there the best there not wrong wool a...      5.0   \n",
       "4200  This little amp kicks major ass, dood. I think...      5.0   \n",
       "4349  It's a flange pedal, what else? For the price ...      5.0   \n",
       "4370  For the price, it's worth it I guess. If you j...      4.0   \n",
       "4710  Overdrive that wont drive you over...love it f...      4.0   \n",
       "4711  Works great for the price!! I just started to ...      5.0   \n",
       "4769  Works as advertised for my purpose. It is in f...      4.0   \n",
       "5165                                    There good mics      5.0   \n",
       "5577                         Love these pedals good buy      5.0   \n",
       "5936  I have no idea what happened or if anyone else...      1.0   \n",
       "6937                                Works good.good buy      5.0   \n",
       "7477  Despite the sensitivity of a compressor microp...      5.0   \n",
       "7478  now it doesn't work(same day i got it). In my ...      3.0   \n",
       "7479  This mic fits my studio need perfectly. It's U...      5.0   \n",
       "7480  Im starting a podcast. I blindly lept to buy t...      2.0   \n",
       "7603           Good strap, very comfortable and strong.      5.0   \n",
       "7866                                   Works awesome :)      5.0   \n",
       "9058                                    Work awesome :)      5.0   \n",
       "\n",
       "                                               summary  unixReviewTime  \\\n",
       "41                                          Five Stars      1405382400   \n",
       "263                                              Great      1364860800   \n",
       "264                                 Always great Kyser      1356652800   \n",
       "432                          Friend loved it very much      1405209600   \n",
       "667                                           Love it!      1405382400   \n",
       "1001                                        Five Stars      1405814400   \n",
       "2197                             Excellent music stand      1385510400   \n",
       "2233                                Best overall value      1405209600   \n",
       "2591                                        Four Stars      1405382400   \n",
       "3962                                        Five Stars      1405814400   \n",
       "4200                       Pretty solid for the price.      1405209600   \n",
       "4349                              Great for the price!      1405209600   \n",
       "4370                      Hair metal clean tones, hue.      1405209600   \n",
       "4710                        Drive on over and get some      1405123200   \n",
       "4711                            Danelectro is alright.      1405209600   \n",
       "4769                  Using it as an amp for a TV set.      1405296000   \n",
       "5165                                        Five Stars      1405814400   \n",
       "5577                                        Five Stars      1405814400   \n",
       "5936  Item was NOT like it was described. Be careful!!      1405209600   \n",
       "6937                                        Five Stars      1405814400   \n",
       "7477       I use this for heavy metal guitar recording      1297555200   \n",
       "7478                       Worked out of the box great      1363996800   \n",
       "7479                           Great mic awesome price      1383436800   \n",
       "7480             Great for one person without friends.      1376006400   \n",
       "7603                                        Five Stars      1405382400   \n",
       "7866                                        Five Stars      1405814400   \n",
       "9058                                        Five Stars      1405814400   \n",
       "\n",
       "       reviewTime  \n",
       "41    07 15, 2014  \n",
       "263    04 2, 2013  \n",
       "264   12 28, 2012  \n",
       "432   07 13, 2014  \n",
       "667   07 15, 2014  \n",
       "1001  07 20, 2014  \n",
       "2197  11 27, 2013  \n",
       "2233  07 13, 2014  \n",
       "2591  07 15, 2014  \n",
       "3962  07 20, 2014  \n",
       "4200  07 13, 2014  \n",
       "4349  07 13, 2014  \n",
       "4370  07 13, 2014  \n",
       "4710  07 12, 2014  \n",
       "4711  07 13, 2014  \n",
       "4769  07 14, 2014  \n",
       "5165  07 20, 2014  \n",
       "5577  07 20, 2014  \n",
       "5936  07 13, 2014  \n",
       "6937  07 20, 2014  \n",
       "7477  02 13, 2011  \n",
       "7478  03 23, 2013  \n",
       "7479   11 3, 2013  \n",
       "7480   08 9, 2013  \n",
       "7603  07 15, 2014  \n",
       "7866  07 20, 2014  \n",
       "9058  07 20, 2014  "
      ]
     },
     "execution_count": 8,
     "metadata": {},
     "output_type": "execute_result"
    }
   ],
   "source": [
    "reviews[reviews.isnull().any(axis=1)]"
   ]
  },
  {
   "cell_type": "markdown",
   "id": "f8155d87",
   "metadata": {},
   "source": [
    "## Feature Engineering"
   ]
  },
  {
   "cell_type": "markdown",
   "id": "47e571b4",
   "metadata": {},
   "source": [
    "### 'reviewText' + 'summary' --> 'reviews'"
   ]
  },
  {
   "cell_type": "markdown",
   "id": "8641beaf",
   "metadata": {
    "papermill": {
     "duration": 0.066578,
     "end_time": "2022-05-08T15:07:58.084494",
     "exception": false,
     "start_time": "2022-05-08T15:07:58.017916",
     "status": "completed"
    },
    "tags": []
   },
   "source": [
    "To only look at one piece of text, let us combine 'reviewText' and 'summary', with the assumption that the summary is indeed the summary of the 'reviewText' column, and so reflects the same sentiment."
   ]
  },
  {
   "cell_type": "code",
   "execution_count": 9,
   "id": "93b2ba55",
   "metadata": {
    "execution": {
     "iopub.execute_input": "2022-05-08T15:07:58.219926Z",
     "iopub.status.busy": "2022-05-08T15:07:58.219412Z",
     "iopub.status.idle": "2022-05-08T15:07:58.243889Z",
     "shell.execute_reply": "2022-05-08T15:07:58.243326Z"
    },
    "papermill": {
     "duration": 0.094568,
     "end_time": "2022-05-08T15:07:58.245643",
     "exception": false,
     "start_time": "2022-05-08T15:07:58.151075",
     "status": "completed"
    },
    "tags": []
   },
   "outputs": [
    {
     "name": "stderr",
     "output_type": "stream",
     "text": [
      "C:\\Users\\Leibniz\\AppData\\Local\\Temp\\ipykernel_35364\\1530590027.py:1: SettingWithCopyWarning: \n",
      "A value is trying to be set on a copy of a slice from a DataFrame.\n",
      "Try using .loc[row_indexer,col_indexer] = value instead\n",
      "\n",
      "See the caveats in the documentation: https://pandas.pydata.org/pandas-docs/stable/user_guide/indexing.html#returning-a-view-versus-a-copy\n",
      "  reviews['reviews'] = reviews['reviewText'] + \" \" + reviews['summary']\n"
     ]
    },
    {
     "data": {
      "text/html": [
       "<div>\n",
       "<style scoped>\n",
       "    .dataframe tbody tr th:only-of-type {\n",
       "        vertical-align: middle;\n",
       "    }\n",
       "\n",
       "    .dataframe tbody tr th {\n",
       "        vertical-align: top;\n",
       "    }\n",
       "\n",
       "    .dataframe thead th {\n",
       "        text-align: right;\n",
       "    }\n",
       "</style>\n",
       "<table border=\"1\" class=\"dataframe\">\n",
       "  <thead>\n",
       "    <tr style=\"text-align: right;\">\n",
       "      <th></th>\n",
       "      <th>reviewerID</th>\n",
       "      <th>asin</th>\n",
       "      <th>reviewerName</th>\n",
       "      <th>helpful</th>\n",
       "      <th>overall</th>\n",
       "      <th>unixReviewTime</th>\n",
       "      <th>reviewTime</th>\n",
       "      <th>reviews</th>\n",
       "    </tr>\n",
       "  </thead>\n",
       "  <tbody>\n",
       "    <tr>\n",
       "      <th>0</th>\n",
       "      <td>A2IBPI20UZIR0U</td>\n",
       "      <td>1384719342</td>\n",
       "      <td>cassandra tu \"Yeah, well, that's just like, u...</td>\n",
       "      <td>[0, 0]</td>\n",
       "      <td>5.0</td>\n",
       "      <td>1393545600</td>\n",
       "      <td>02 28, 2014</td>\n",
       "      <td>Not much to write about here, but it does exac...</td>\n",
       "    </tr>\n",
       "    <tr>\n",
       "      <th>1</th>\n",
       "      <td>A14VAT5EAX3D9S</td>\n",
       "      <td>1384719342</td>\n",
       "      <td>Jake</td>\n",
       "      <td>[13, 14]</td>\n",
       "      <td>5.0</td>\n",
       "      <td>1363392000</td>\n",
       "      <td>03 16, 2013</td>\n",
       "      <td>The product does exactly as it should and is q...</td>\n",
       "    </tr>\n",
       "    <tr>\n",
       "      <th>2</th>\n",
       "      <td>A195EZSQDW3E21</td>\n",
       "      <td>1384719342</td>\n",
       "      <td>Rick Bennette \"Rick Bennette\"</td>\n",
       "      <td>[1, 1]</td>\n",
       "      <td>5.0</td>\n",
       "      <td>1377648000</td>\n",
       "      <td>08 28, 2013</td>\n",
       "      <td>The primary job of this device is to block the...</td>\n",
       "    </tr>\n",
       "    <tr>\n",
       "      <th>3</th>\n",
       "      <td>A2C00NNG1ZQQG2</td>\n",
       "      <td>1384719342</td>\n",
       "      <td>RustyBill \"Sunday Rocker\"</td>\n",
       "      <td>[0, 0]</td>\n",
       "      <td>5.0</td>\n",
       "      <td>1392336000</td>\n",
       "      <td>02 14, 2014</td>\n",
       "      <td>Nice windscreen protects my MXL mic and preven...</td>\n",
       "    </tr>\n",
       "    <tr>\n",
       "      <th>4</th>\n",
       "      <td>A94QU4C90B1AX</td>\n",
       "      <td>1384719342</td>\n",
       "      <td>SEAN MASLANKA</td>\n",
       "      <td>[0, 0]</td>\n",
       "      <td>5.0</td>\n",
       "      <td>1392940800</td>\n",
       "      <td>02 21, 2014</td>\n",
       "      <td>This pop filter is great. It looks and perform...</td>\n",
       "    </tr>\n",
       "  </tbody>\n",
       "</table>\n",
       "</div>"
      ],
      "text/plain": [
       "       reviewerID        asin  \\\n",
       "0  A2IBPI20UZIR0U  1384719342   \n",
       "1  A14VAT5EAX3D9S  1384719342   \n",
       "2  A195EZSQDW3E21  1384719342   \n",
       "3  A2C00NNG1ZQQG2  1384719342   \n",
       "4   A94QU4C90B1AX  1384719342   \n",
       "\n",
       "                                       reviewerName   helpful  overall  \\\n",
       "0  cassandra tu \"Yeah, well, that's just like, u...    [0, 0]      5.0   \n",
       "1                                              Jake  [13, 14]      5.0   \n",
       "2                     Rick Bennette \"Rick Bennette\"    [1, 1]      5.0   \n",
       "3                         RustyBill \"Sunday Rocker\"    [0, 0]      5.0   \n",
       "4                                     SEAN MASLANKA    [0, 0]      5.0   \n",
       "\n",
       "   unixReviewTime   reviewTime  \\\n",
       "0      1393545600  02 28, 2014   \n",
       "1      1363392000  03 16, 2013   \n",
       "2      1377648000  08 28, 2013   \n",
       "3      1392336000  02 14, 2014   \n",
       "4      1392940800  02 21, 2014   \n",
       "\n",
       "                                             reviews  \n",
       "0  Not much to write about here, but it does exac...  \n",
       "1  The product does exactly as it should and is q...  \n",
       "2  The primary job of this device is to block the...  \n",
       "3  Nice windscreen protects my MXL mic and preven...  \n",
       "4  This pop filter is great. It looks and perform...  "
      ]
     },
     "execution_count": 9,
     "metadata": {},
     "output_type": "execute_result"
    }
   ],
   "source": [
    "reviews['reviews'] = reviews['reviewText'] + \" \" + reviews['summary']\n",
    "\n",
    "# Remove 'reviewText' and 'summary' to simplify data\n",
    "reviews = reviews.drop(['reviewText', 'summary'], axis=1)\n",
    "reviews.head()"
   ]
  },
  {
   "cell_type": "markdown",
   "id": "5ea95ea8",
   "metadata": {
    "papermill": {
     "duration": 0.066971,
     "end_time": "2022-05-08T15:07:57.803220",
     "exception": false,
     "start_time": "2022-05-08T15:07:57.736249",
     "status": "completed"
    },
    "tags": []
   },
   "source": [
    "### Objective 'Sentiment'"
   ]
  },
  {
   "cell_type": "code",
   "execution_count": 10,
   "id": "01210292",
   "metadata": {
    "execution": {
     "iopub.execute_input": "2022-05-08T15:07:57.938386Z",
     "iopub.status.busy": "2022-05-08T15:07:57.937871Z",
     "iopub.status.idle": "2022-05-08T15:07:57.947393Z",
     "shell.execute_reply": "2022-05-08T15:07:57.946379Z"
    },
    "papermill": {
     "duration": 0.079602,
     "end_time": "2022-05-08T15:07:57.949195",
     "exception": false,
     "start_time": "2022-05-08T15:07:57.869593",
     "status": "completed"
    },
    "scrolled": true,
    "tags": []
   },
   "outputs": [
    {
     "name": "stdout",
     "output_type": "stream",
     "text": [
      "The distribution of categories of sentiment:\n"
     ]
    },
    {
     "data": {
      "text/plain": [
       "5.0    6932\n",
       "4.0    2083\n",
       "3.0     772\n",
       "2.0     250\n",
       "1.0     217\n",
       "Name: overall, dtype: int64"
      ]
     },
     "execution_count": 10,
     "metadata": {},
     "output_type": "execute_result"
    }
   ],
   "source": [
    "print('The distribution of categories of sentiment:') \n",
    "reviews['overall'].value_counts()"
   ]
  },
  {
   "cell_type": "code",
   "execution_count": 11,
   "id": "ae1b5bb8",
   "metadata": {
    "execution": {
     "iopub.execute_input": "2022-05-08T15:07:58.517729Z",
     "iopub.status.busy": "2022-05-08T15:07:58.517179Z",
     "iopub.status.idle": "2022-05-08T15:07:58.521113Z",
     "shell.execute_reply": "2022-05-08T15:07:58.520535Z"
    },
    "papermill": {
     "duration": 0.074683,
     "end_time": "2022-05-08T15:07:58.523119",
     "exception": false,
     "start_time": "2022-05-08T15:07:58.448436",
     "status": "completed"
    },
    "tags": []
   },
   "outputs": [],
   "source": [
    "def sent(rating):\n",
    "    if rating['overall'] == 3:\n",
    "        value = 'Neutral'\n",
    "    elif rating['overall'] > 3:\n",
    "        value = 'Positive'\n",
    "    else:\n",
    "        value = 'Negative'\n",
    "    return value"
   ]
  },
  {
   "cell_type": "code",
   "execution_count": 12,
   "id": "1405d2a8",
   "metadata": {
    "execution": {
     "iopub.execute_input": "2022-05-08T15:07:58.662099Z",
     "iopub.status.busy": "2022-05-08T15:07:58.661528Z",
     "iopub.status.idle": "2022-05-08T15:07:58.798692Z",
     "shell.execute_reply": "2022-05-08T15:07:58.797838Z"
    },
    "papermill": {
     "duration": 0.20874,
     "end_time": "2022-05-08T15:07:58.800597",
     "exception": false,
     "start_time": "2022-05-08T15:07:58.591857",
     "status": "completed"
    },
    "tags": []
   },
   "outputs": [
    {
     "data": {
      "text/html": [
       "<div>\n",
       "<style scoped>\n",
       "    .dataframe tbody tr th:only-of-type {\n",
       "        vertical-align: middle;\n",
       "    }\n",
       "\n",
       "    .dataframe tbody tr th {\n",
       "        vertical-align: top;\n",
       "    }\n",
       "\n",
       "    .dataframe thead th {\n",
       "        text-align: right;\n",
       "    }\n",
       "</style>\n",
       "<table border=\"1\" class=\"dataframe\">\n",
       "  <thead>\n",
       "    <tr style=\"text-align: right;\">\n",
       "      <th></th>\n",
       "      <th>reviewerID</th>\n",
       "      <th>asin</th>\n",
       "      <th>reviewerName</th>\n",
       "      <th>helpful</th>\n",
       "      <th>overall</th>\n",
       "      <th>unixReviewTime</th>\n",
       "      <th>reviewTime</th>\n",
       "      <th>reviews</th>\n",
       "      <th>Sentiment</th>\n",
       "    </tr>\n",
       "  </thead>\n",
       "  <tbody>\n",
       "    <tr>\n",
       "      <th>0</th>\n",
       "      <td>A2IBPI20UZIR0U</td>\n",
       "      <td>1384719342</td>\n",
       "      <td>cassandra tu \"Yeah, well, that's just like, u...</td>\n",
       "      <td>[0, 0]</td>\n",
       "      <td>5.0</td>\n",
       "      <td>1393545600</td>\n",
       "      <td>02 28, 2014</td>\n",
       "      <td>Not much to write about here, but it does exac...</td>\n",
       "      <td>Positive</td>\n",
       "    </tr>\n",
       "    <tr>\n",
       "      <th>1</th>\n",
       "      <td>A14VAT5EAX3D9S</td>\n",
       "      <td>1384719342</td>\n",
       "      <td>Jake</td>\n",
       "      <td>[13, 14]</td>\n",
       "      <td>5.0</td>\n",
       "      <td>1363392000</td>\n",
       "      <td>03 16, 2013</td>\n",
       "      <td>The product does exactly as it should and is q...</td>\n",
       "      <td>Positive</td>\n",
       "    </tr>\n",
       "    <tr>\n",
       "      <th>2</th>\n",
       "      <td>A195EZSQDW3E21</td>\n",
       "      <td>1384719342</td>\n",
       "      <td>Rick Bennette \"Rick Bennette\"</td>\n",
       "      <td>[1, 1]</td>\n",
       "      <td>5.0</td>\n",
       "      <td>1377648000</td>\n",
       "      <td>08 28, 2013</td>\n",
       "      <td>The primary job of this device is to block the...</td>\n",
       "      <td>Positive</td>\n",
       "    </tr>\n",
       "    <tr>\n",
       "      <th>3</th>\n",
       "      <td>A2C00NNG1ZQQG2</td>\n",
       "      <td>1384719342</td>\n",
       "      <td>RustyBill \"Sunday Rocker\"</td>\n",
       "      <td>[0, 0]</td>\n",
       "      <td>5.0</td>\n",
       "      <td>1392336000</td>\n",
       "      <td>02 14, 2014</td>\n",
       "      <td>Nice windscreen protects my MXL mic and preven...</td>\n",
       "      <td>Positive</td>\n",
       "    </tr>\n",
       "    <tr>\n",
       "      <th>4</th>\n",
       "      <td>A94QU4C90B1AX</td>\n",
       "      <td>1384719342</td>\n",
       "      <td>SEAN MASLANKA</td>\n",
       "      <td>[0, 0]</td>\n",
       "      <td>5.0</td>\n",
       "      <td>1392940800</td>\n",
       "      <td>02 21, 2014</td>\n",
       "      <td>This pop filter is great. It looks and perform...</td>\n",
       "      <td>Positive</td>\n",
       "    </tr>\n",
       "  </tbody>\n",
       "</table>\n",
       "</div>"
      ],
      "text/plain": [
       "       reviewerID        asin  \\\n",
       "0  A2IBPI20UZIR0U  1384719342   \n",
       "1  A14VAT5EAX3D9S  1384719342   \n",
       "2  A195EZSQDW3E21  1384719342   \n",
       "3  A2C00NNG1ZQQG2  1384719342   \n",
       "4   A94QU4C90B1AX  1384719342   \n",
       "\n",
       "                                       reviewerName   helpful  overall  \\\n",
       "0  cassandra tu \"Yeah, well, that's just like, u...    [0, 0]      5.0   \n",
       "1                                              Jake  [13, 14]      5.0   \n",
       "2                     Rick Bennette \"Rick Bennette\"    [1, 1]      5.0   \n",
       "3                         RustyBill \"Sunday Rocker\"    [0, 0]      5.0   \n",
       "4                                     SEAN MASLANKA    [0, 0]      5.0   \n",
       "\n",
       "   unixReviewTime   reviewTime  \\\n",
       "0      1393545600  02 28, 2014   \n",
       "1      1363392000  03 16, 2013   \n",
       "2      1377648000  08 28, 2013   \n",
       "3      1392336000  02 14, 2014   \n",
       "4      1392940800  02 21, 2014   \n",
       "\n",
       "                                             reviews Sentiment  \n",
       "0  Not much to write about here, but it does exac...  Positive  \n",
       "1  The product does exactly as it should and is q...  Positive  \n",
       "2  The primary job of this device is to block the...  Positive  \n",
       "3  Nice windscreen protects my MXL mic and preven...  Positive  \n",
       "4  This pop filter is great. It looks and perform...  Positive  "
      ]
     },
     "execution_count": 12,
     "metadata": {},
     "output_type": "execute_result"
    }
   ],
   "source": [
    "#Applying the function in our new column\n",
    "reviews['Sentiment'] = reviews.apply(sent, axis=1)\n",
    "reviews.head()"
   ]
  },
  {
   "cell_type": "code",
   "execution_count": 13,
   "id": "c40198b3",
   "metadata": {
    "execution": {
     "iopub.execute_input": "2022-05-08T15:07:58.939331Z",
     "iopub.status.busy": "2022-05-08T15:07:58.938799Z",
     "iopub.status.idle": "2022-05-08T15:07:58.946829Z",
     "shell.execute_reply": "2022-05-08T15:07:58.946300Z"
    },
    "papermill": {
     "duration": 0.079707,
     "end_time": "2022-05-08T15:07:58.948426",
     "exception": false,
     "start_time": "2022-05-08T15:07:58.868719",
     "status": "completed"
    },
    "tags": []
   },
   "outputs": [
    {
     "name": "stdout",
     "output_type": "stream",
     "text": [
      "The count of sentiments:\n"
     ]
    },
    {
     "data": {
      "text/plain": [
       "Positive    9015\n",
       "Neutral      772\n",
       "Negative     467\n",
       "Name: Sentiment, dtype: int64"
      ]
     },
     "execution_count": 13,
     "metadata": {},
     "output_type": "execute_result"
    }
   ],
   "source": [
    "print('The count of sentiments:')\n",
    "reviews['Sentiment'].value_counts()"
   ]
  },
  {
   "cell_type": "markdown",
   "id": "d087a4e1",
   "metadata": {},
   "source": [
    "### Date"
   ]
  },
  {
   "cell_type": "code",
   "execution_count": 14,
   "id": "623d6963",
   "metadata": {
    "execution": {
     "iopub.execute_input": "2022-05-08T15:07:59.086863Z",
     "iopub.status.busy": "2022-05-08T15:07:59.086586Z",
     "iopub.status.idle": "2022-05-08T15:07:59.137579Z",
     "shell.execute_reply": "2022-05-08T15:07:59.136722Z"
    },
    "papermill": {
     "duration": 0.122739,
     "end_time": "2022-05-08T15:07:59.139512",
     "exception": false,
     "start_time": "2022-05-08T15:07:59.016773",
     "status": "completed"
    },
    "tags": []
   },
   "outputs": [
    {
     "data": {
      "text/html": [
       "<div>\n",
       "<style scoped>\n",
       "    .dataframe tbody tr th:only-of-type {\n",
       "        vertical-align: middle;\n",
       "    }\n",
       "\n",
       "    .dataframe tbody tr th {\n",
       "        vertical-align: top;\n",
       "    }\n",
       "\n",
       "    .dataframe thead th {\n",
       "        text-align: right;\n",
       "    }\n",
       "</style>\n",
       "<table border=\"1\" class=\"dataframe\">\n",
       "  <thead>\n",
       "    <tr style=\"text-align: right;\">\n",
       "      <th></th>\n",
       "      <th>reviewerID</th>\n",
       "      <th>asin</th>\n",
       "      <th>reviewerName</th>\n",
       "      <th>helpful</th>\n",
       "      <th>overall</th>\n",
       "      <th>unixReviewTime</th>\n",
       "      <th>reviews</th>\n",
       "      <th>Sentiment</th>\n",
       "      <th>month</th>\n",
       "      <th>day</th>\n",
       "      <th>year</th>\n",
       "    </tr>\n",
       "  </thead>\n",
       "  <tbody>\n",
       "    <tr>\n",
       "      <th>0</th>\n",
       "      <td>A2IBPI20UZIR0U</td>\n",
       "      <td>1384719342</td>\n",
       "      <td>cassandra tu \"Yeah, well, that's just like, u...</td>\n",
       "      <td>[0, 0]</td>\n",
       "      <td>5.0</td>\n",
       "      <td>1393545600</td>\n",
       "      <td>Not much to write about here, but it does exac...</td>\n",
       "      <td>Positive</td>\n",
       "      <td>02</td>\n",
       "      <td>28</td>\n",
       "      <td>2014</td>\n",
       "    </tr>\n",
       "    <tr>\n",
       "      <th>1</th>\n",
       "      <td>A14VAT5EAX3D9S</td>\n",
       "      <td>1384719342</td>\n",
       "      <td>Jake</td>\n",
       "      <td>[13, 14]</td>\n",
       "      <td>5.0</td>\n",
       "      <td>1363392000</td>\n",
       "      <td>The product does exactly as it should and is q...</td>\n",
       "      <td>Positive</td>\n",
       "      <td>03</td>\n",
       "      <td>16</td>\n",
       "      <td>2013</td>\n",
       "    </tr>\n",
       "    <tr>\n",
       "      <th>2</th>\n",
       "      <td>A195EZSQDW3E21</td>\n",
       "      <td>1384719342</td>\n",
       "      <td>Rick Bennette \"Rick Bennette\"</td>\n",
       "      <td>[1, 1]</td>\n",
       "      <td>5.0</td>\n",
       "      <td>1377648000</td>\n",
       "      <td>The primary job of this device is to block the...</td>\n",
       "      <td>Positive</td>\n",
       "      <td>08</td>\n",
       "      <td>28</td>\n",
       "      <td>2013</td>\n",
       "    </tr>\n",
       "    <tr>\n",
       "      <th>3</th>\n",
       "      <td>A2C00NNG1ZQQG2</td>\n",
       "      <td>1384719342</td>\n",
       "      <td>RustyBill \"Sunday Rocker\"</td>\n",
       "      <td>[0, 0]</td>\n",
       "      <td>5.0</td>\n",
       "      <td>1392336000</td>\n",
       "      <td>Nice windscreen protects my MXL mic and preven...</td>\n",
       "      <td>Positive</td>\n",
       "      <td>02</td>\n",
       "      <td>14</td>\n",
       "      <td>2014</td>\n",
       "    </tr>\n",
       "    <tr>\n",
       "      <th>4</th>\n",
       "      <td>A94QU4C90B1AX</td>\n",
       "      <td>1384719342</td>\n",
       "      <td>SEAN MASLANKA</td>\n",
       "      <td>[0, 0]</td>\n",
       "      <td>5.0</td>\n",
       "      <td>1392940800</td>\n",
       "      <td>This pop filter is great. It looks and perform...</td>\n",
       "      <td>Positive</td>\n",
       "      <td>02</td>\n",
       "      <td>21</td>\n",
       "      <td>2014</td>\n",
       "    </tr>\n",
       "  </tbody>\n",
       "</table>\n",
       "</div>"
      ],
      "text/plain": [
       "       reviewerID        asin  \\\n",
       "0  A2IBPI20UZIR0U  1384719342   \n",
       "1  A14VAT5EAX3D9S  1384719342   \n",
       "2  A195EZSQDW3E21  1384719342   \n",
       "3  A2C00NNG1ZQQG2  1384719342   \n",
       "4   A94QU4C90B1AX  1384719342   \n",
       "\n",
       "                                       reviewerName   helpful  overall  \\\n",
       "0  cassandra tu \"Yeah, well, that's just like, u...    [0, 0]      5.0   \n",
       "1                                              Jake  [13, 14]      5.0   \n",
       "2                     Rick Bennette \"Rick Bennette\"    [1, 1]      5.0   \n",
       "3                         RustyBill \"Sunday Rocker\"    [0, 0]      5.0   \n",
       "4                                     SEAN MASLANKA    [0, 0]      5.0   \n",
       "\n",
       "   unixReviewTime                                            reviews  \\\n",
       "0      1393545600  Not much to write about here, but it does exac...   \n",
       "1      1363392000  The product does exactly as it should and is q...   \n",
       "2      1377648000  The primary job of this device is to block the...   \n",
       "3      1392336000  Nice windscreen protects my MXL mic and preven...   \n",
       "4      1392940800  This pop filter is great. It looks and perform...   \n",
       "\n",
       "  Sentiment month day  year  \n",
       "0  Positive    02  28  2014  \n",
       "1  Positive    03  16  2013  \n",
       "2  Positive    08  28  2013  \n",
       "3  Positive    02  14  2014  \n",
       "4  Positive    02  21  2014  "
      ]
     },
     "execution_count": 14,
     "metadata": {},
     "output_type": "execute_result"
    }
   ],
   "source": [
    "# Splitting the date \n",
    "re_date = reviews[\"reviewTime\"].str.split(\" \", expand = True)  \n",
    "\n",
    "reviews[\"month\"] = re_date[0] \n",
    "reviews[\"day\"] = re_date[1].str[:-1] #since month has comma\n",
    "reviews[\"year\"] = re_date[2]\n",
    "\n",
    "reviews = reviews.drop(['reviewTime'], axis=1)\n",
    "reviews.head() "
   ]
  },
  {
   "cell_type": "code",
   "execution_count": 15,
   "id": "2412a317",
   "metadata": {
    "execution": {
     "iopub.execute_input": "2022-05-08T15:07:59.280581Z",
     "iopub.status.busy": "2022-05-08T15:07:59.279807Z",
     "iopub.status.idle": "2022-05-08T15:07:59.289337Z",
     "shell.execute_reply": "2022-05-08T15:07:59.288526Z"
    },
    "papermill": {
     "duration": 0.084451,
     "end_time": "2022-05-08T15:07:59.292978",
     "exception": false,
     "start_time": "2022-05-08T15:07:59.208527",
     "status": "completed"
    },
    "tags": []
   },
   "outputs": [
    {
     "data": {
      "text/plain": [
       "2013    4053\n",
       "2014    2679\n",
       "2012    1933\n",
       "2011    1006\n",
       "2010     350\n",
       "2009     127\n",
       "2008      63\n",
       "2007      22\n",
       "2006      10\n",
       "2004       7\n",
       "2005       4\n",
       "Name: year, dtype: int64"
      ]
     },
     "execution_count": 15,
     "metadata": {},
     "output_type": "execute_result"
    }
   ],
   "source": [
    "reviews['year'].value_counts()"
   ]
  },
  {
   "cell_type": "code",
   "execution_count": 16,
   "id": "04ab7f0e",
   "metadata": {
    "execution": {
     "iopub.execute_input": "2022-05-08T15:07:59.443629Z",
     "iopub.status.busy": "2022-05-08T15:07:59.443020Z",
     "iopub.status.idle": "2022-05-08T15:07:59.458844Z",
     "shell.execute_reply": "2022-05-08T15:07:59.457967Z"
    },
    "papermill": {
     "duration": 0.097498,
     "end_time": "2022-05-08T15:07:59.460810",
     "exception": false,
     "start_time": "2022-05-08T15:07:59.363312",
     "status": "completed"
    },
    "tags": []
   },
   "outputs": [
    {
     "data": {
      "text/plain": [
       "year  Sentiment\n",
       "2004  Positive        7\n",
       "2005  Positive        4\n",
       "2006  Negative        1\n",
       "      Neutral         1\n",
       "      Positive        8\n",
       "2007  Negative        1\n",
       "      Positive       21\n",
       "2008  Negative        2\n",
       "      Neutral         7\n",
       "      Positive       54\n",
       "2009  Negative        5\n",
       "      Neutral         8\n",
       "      Positive      114\n",
       "2010  Negative       16\n",
       "      Neutral        20\n",
       "      Positive      314\n",
       "2011  Negative       46\n",
       "      Neutral        84\n",
       "      Positive      876\n",
       "2012  Negative       85\n",
       "      Neutral       130\n",
       "      Positive     1718\n",
       "2013  Negative      170\n",
       "      Neutral       319\n",
       "      Positive     3564\n",
       "2014  Negative      141\n",
       "      Neutral       203\n",
       "      Positive     2335\n",
       "dtype: int64"
      ]
     },
     "execution_count": 16,
     "metadata": {},
     "output_type": "execute_result"
    }
   ],
   "source": [
    "reviews.groupby(['year', 'Sentiment']).size()"
   ]
  },
  {
   "cell_type": "markdown",
   "id": "39c480ce",
   "metadata": {
    "papermill": {
     "duration": 0.088523,
     "end_time": "2022-05-08T15:07:59.789860",
     "exception": false,
     "start_time": "2022-05-08T15:07:59.701337",
     "status": "completed"
    },
    "tags": []
   },
   "source": [
    "### 'helpful' --> 'helpful_review'"
   ]
  },
  {
   "cell_type": "markdown",
   "id": "55faca01",
   "metadata": {},
   "source": [
    "Converted 'helpful' to a much more workable value, that is ratio ranging from 0 to 1 or least helpful (or no data) to most helpful."
   ]
  },
  {
   "cell_type": "code",
   "execution_count": 17,
   "id": "812b2ef5",
   "metadata": {},
   "outputs": [
    {
     "data": {
      "text/html": [
       "<div>\n",
       "<style scoped>\n",
       "    .dataframe tbody tr th:only-of-type {\n",
       "        vertical-align: middle;\n",
       "    }\n",
       "\n",
       "    .dataframe tbody tr th {\n",
       "        vertical-align: top;\n",
       "    }\n",
       "\n",
       "    .dataframe thead th {\n",
       "        text-align: right;\n",
       "    }\n",
       "</style>\n",
       "<table border=\"1\" class=\"dataframe\">\n",
       "  <thead>\n",
       "    <tr style=\"text-align: right;\">\n",
       "      <th></th>\n",
       "      <th>reviewerID</th>\n",
       "      <th>asin</th>\n",
       "      <th>reviewerName</th>\n",
       "      <th>helpful</th>\n",
       "      <th>overall</th>\n",
       "      <th>unixReviewTime</th>\n",
       "      <th>reviews</th>\n",
       "      <th>Sentiment</th>\n",
       "      <th>month</th>\n",
       "      <th>day</th>\n",
       "      <th>year</th>\n",
       "      <th>helpful_count</th>\n",
       "      <th>total_count</th>\n",
       "    </tr>\n",
       "  </thead>\n",
       "  <tbody>\n",
       "    <tr>\n",
       "      <th>0</th>\n",
       "      <td>A2IBPI20UZIR0U</td>\n",
       "      <td>1384719342</td>\n",
       "      <td>cassandra tu \"Yeah, well, that's just like, u...</td>\n",
       "      <td>[0, 0]</td>\n",
       "      <td>5.0</td>\n",
       "      <td>1393545600</td>\n",
       "      <td>Not much to write about here, but it does exac...</td>\n",
       "      <td>Positive</td>\n",
       "      <td>02</td>\n",
       "      <td>28</td>\n",
       "      <td>2014</td>\n",
       "      <td>0</td>\n",
       "      <td>0</td>\n",
       "    </tr>\n",
       "    <tr>\n",
       "      <th>1</th>\n",
       "      <td>A14VAT5EAX3D9S</td>\n",
       "      <td>1384719342</td>\n",
       "      <td>Jake</td>\n",
       "      <td>[13, 14]</td>\n",
       "      <td>5.0</td>\n",
       "      <td>1363392000</td>\n",
       "      <td>The product does exactly as it should and is q...</td>\n",
       "      <td>Positive</td>\n",
       "      <td>03</td>\n",
       "      <td>16</td>\n",
       "      <td>2013</td>\n",
       "      <td>13</td>\n",
       "      <td>14</td>\n",
       "    </tr>\n",
       "    <tr>\n",
       "      <th>2</th>\n",
       "      <td>A195EZSQDW3E21</td>\n",
       "      <td>1384719342</td>\n",
       "      <td>Rick Bennette \"Rick Bennette\"</td>\n",
       "      <td>[1, 1]</td>\n",
       "      <td>5.0</td>\n",
       "      <td>1377648000</td>\n",
       "      <td>The primary job of this device is to block the...</td>\n",
       "      <td>Positive</td>\n",
       "      <td>08</td>\n",
       "      <td>28</td>\n",
       "      <td>2013</td>\n",
       "      <td>1</td>\n",
       "      <td>1</td>\n",
       "    </tr>\n",
       "    <tr>\n",
       "      <th>3</th>\n",
       "      <td>A2C00NNG1ZQQG2</td>\n",
       "      <td>1384719342</td>\n",
       "      <td>RustyBill \"Sunday Rocker\"</td>\n",
       "      <td>[0, 0]</td>\n",
       "      <td>5.0</td>\n",
       "      <td>1392336000</td>\n",
       "      <td>Nice windscreen protects my MXL mic and preven...</td>\n",
       "      <td>Positive</td>\n",
       "      <td>02</td>\n",
       "      <td>14</td>\n",
       "      <td>2014</td>\n",
       "      <td>0</td>\n",
       "      <td>0</td>\n",
       "    </tr>\n",
       "    <tr>\n",
       "      <th>4</th>\n",
       "      <td>A94QU4C90B1AX</td>\n",
       "      <td>1384719342</td>\n",
       "      <td>SEAN MASLANKA</td>\n",
       "      <td>[0, 0]</td>\n",
       "      <td>5.0</td>\n",
       "      <td>1392940800</td>\n",
       "      <td>This pop filter is great. It looks and perform...</td>\n",
       "      <td>Positive</td>\n",
       "      <td>02</td>\n",
       "      <td>21</td>\n",
       "      <td>2014</td>\n",
       "      <td>0</td>\n",
       "      <td>0</td>\n",
       "    </tr>\n",
       "  </tbody>\n",
       "</table>\n",
       "</div>"
      ],
      "text/plain": [
       "       reviewerID        asin  \\\n",
       "0  A2IBPI20UZIR0U  1384719342   \n",
       "1  A14VAT5EAX3D9S  1384719342   \n",
       "2  A195EZSQDW3E21  1384719342   \n",
       "3  A2C00NNG1ZQQG2  1384719342   \n",
       "4   A94QU4C90B1AX  1384719342   \n",
       "\n",
       "                                       reviewerName   helpful  overall  \\\n",
       "0  cassandra tu \"Yeah, well, that's just like, u...    [0, 0]      5.0   \n",
       "1                                              Jake  [13, 14]      5.0   \n",
       "2                     Rick Bennette \"Rick Bennette\"    [1, 1]      5.0   \n",
       "3                         RustyBill \"Sunday Rocker\"    [0, 0]      5.0   \n",
       "4                                     SEAN MASLANKA    [0, 0]      5.0   \n",
       "\n",
       "   unixReviewTime                                            reviews  \\\n",
       "0      1393545600  Not much to write about here, but it does exac...   \n",
       "1      1363392000  The product does exactly as it should and is q...   \n",
       "2      1377648000  The primary job of this device is to block the...   \n",
       "3      1392336000  Nice windscreen protects my MXL mic and preven...   \n",
       "4      1392940800  This pop filter is great. It looks and perform...   \n",
       "\n",
       "  Sentiment month day  year  helpful_count  total_count  \n",
       "0  Positive    02  28  2014              0            0  \n",
       "1  Positive    03  16  2013             13           14  \n",
       "2  Positive    08  28  2013              1            1  \n",
       "3  Positive    02  14  2014              0            0  \n",
       "4  Positive    02  21  2014              0            0  "
      ]
     },
     "execution_count": 17,
     "metadata": {},
     "output_type": "execute_result"
    }
   ],
   "source": [
    "re_review = reviews[\"helpful\"].str[1:-1].str.split(\",\", expand=True)\n",
    "reviews[\"helpful_count\"] = pd.to_numeric(re_review[0])\n",
    "reviews[\"total_count\"] = pd.to_numeric(re_review[1])\n",
    "reviews.head()"
   ]
  },
  {
   "cell_type": "code",
   "execution_count": 18,
   "id": "40bbad9e",
   "metadata": {
    "scrolled": false
   },
   "outputs": [
    {
     "data": {
      "text/html": [
       "<div>\n",
       "<style scoped>\n",
       "    .dataframe tbody tr th:only-of-type {\n",
       "        vertical-align: middle;\n",
       "    }\n",
       "\n",
       "    .dataframe tbody tr th {\n",
       "        vertical-align: top;\n",
       "    }\n",
       "\n",
       "    .dataframe thead th {\n",
       "        text-align: right;\n",
       "    }\n",
       "</style>\n",
       "<table border=\"1\" class=\"dataframe\">\n",
       "  <thead>\n",
       "    <tr style=\"text-align: right;\">\n",
       "      <th></th>\n",
       "      <th>reviewerID</th>\n",
       "      <th>asin</th>\n",
       "      <th>reviewerName</th>\n",
       "      <th>overall</th>\n",
       "      <th>unixReviewTime</th>\n",
       "      <th>reviews</th>\n",
       "      <th>Sentiment</th>\n",
       "      <th>month</th>\n",
       "      <th>day</th>\n",
       "      <th>year</th>\n",
       "      <th>total_count</th>\n",
       "      <th>helpful_review</th>\n",
       "    </tr>\n",
       "  </thead>\n",
       "  <tbody>\n",
       "    <tr>\n",
       "      <th>0</th>\n",
       "      <td>A2IBPI20UZIR0U</td>\n",
       "      <td>1384719342</td>\n",
       "      <td>cassandra tu \"Yeah, well, that's just like, u...</td>\n",
       "      <td>5.0</td>\n",
       "      <td>1393545600</td>\n",
       "      <td>Not much to write about here, but it does exac...</td>\n",
       "      <td>Positive</td>\n",
       "      <td>02</td>\n",
       "      <td>28</td>\n",
       "      <td>2014</td>\n",
       "      <td>0</td>\n",
       "      <td>0.00</td>\n",
       "    </tr>\n",
       "    <tr>\n",
       "      <th>1</th>\n",
       "      <td>A14VAT5EAX3D9S</td>\n",
       "      <td>1384719342</td>\n",
       "      <td>Jake</td>\n",
       "      <td>5.0</td>\n",
       "      <td>1363392000</td>\n",
       "      <td>The product does exactly as it should and is q...</td>\n",
       "      <td>Positive</td>\n",
       "      <td>03</td>\n",
       "      <td>16</td>\n",
       "      <td>2013</td>\n",
       "      <td>14</td>\n",
       "      <td>0.93</td>\n",
       "    </tr>\n",
       "    <tr>\n",
       "      <th>2</th>\n",
       "      <td>A195EZSQDW3E21</td>\n",
       "      <td>1384719342</td>\n",
       "      <td>Rick Bennette \"Rick Bennette\"</td>\n",
       "      <td>5.0</td>\n",
       "      <td>1377648000</td>\n",
       "      <td>The primary job of this device is to block the...</td>\n",
       "      <td>Positive</td>\n",
       "      <td>08</td>\n",
       "      <td>28</td>\n",
       "      <td>2013</td>\n",
       "      <td>1</td>\n",
       "      <td>1.00</td>\n",
       "    </tr>\n",
       "    <tr>\n",
       "      <th>3</th>\n",
       "      <td>A2C00NNG1ZQQG2</td>\n",
       "      <td>1384719342</td>\n",
       "      <td>RustyBill \"Sunday Rocker\"</td>\n",
       "      <td>5.0</td>\n",
       "      <td>1392336000</td>\n",
       "      <td>Nice windscreen protects my MXL mic and preven...</td>\n",
       "      <td>Positive</td>\n",
       "      <td>02</td>\n",
       "      <td>14</td>\n",
       "      <td>2014</td>\n",
       "      <td>0</td>\n",
       "      <td>0.00</td>\n",
       "    </tr>\n",
       "    <tr>\n",
       "      <th>4</th>\n",
       "      <td>A94QU4C90B1AX</td>\n",
       "      <td>1384719342</td>\n",
       "      <td>SEAN MASLANKA</td>\n",
       "      <td>5.0</td>\n",
       "      <td>1392940800</td>\n",
       "      <td>This pop filter is great. It looks and perform...</td>\n",
       "      <td>Positive</td>\n",
       "      <td>02</td>\n",
       "      <td>21</td>\n",
       "      <td>2014</td>\n",
       "      <td>0</td>\n",
       "      <td>0.00</td>\n",
       "    </tr>\n",
       "  </tbody>\n",
       "</table>\n",
       "</div>"
      ],
      "text/plain": [
       "       reviewerID        asin  \\\n",
       "0  A2IBPI20UZIR0U  1384719342   \n",
       "1  A14VAT5EAX3D9S  1384719342   \n",
       "2  A195EZSQDW3E21  1384719342   \n",
       "3  A2C00NNG1ZQQG2  1384719342   \n",
       "4   A94QU4C90B1AX  1384719342   \n",
       "\n",
       "                                       reviewerName  overall  unixReviewTime  \\\n",
       "0  cassandra tu \"Yeah, well, that's just like, u...      5.0      1393545600   \n",
       "1                                              Jake      5.0      1363392000   \n",
       "2                     Rick Bennette \"Rick Bennette\"      5.0      1377648000   \n",
       "3                         RustyBill \"Sunday Rocker\"      5.0      1392336000   \n",
       "4                                     SEAN MASLANKA      5.0      1392940800   \n",
       "\n",
       "                                             reviews Sentiment month day  \\\n",
       "0  Not much to write about here, but it does exac...  Positive    02  28   \n",
       "1  The product does exactly as it should and is q...  Positive    03  16   \n",
       "2  The primary job of this device is to block the...  Positive    08  28   \n",
       "3  Nice windscreen protects my MXL mic and preven...  Positive    02  14   \n",
       "4  This pop filter is great. It looks and perform...  Positive    02  21   \n",
       "\n",
       "   year  total_count  helpful_review  \n",
       "0  2014            0            0.00  \n",
       "1  2013           14            0.93  \n",
       "2  2013            1            1.00  \n",
       "3  2014            0            0.00  \n",
       "4  2014            0            0.00  "
      ]
     },
     "execution_count": 18,
     "metadata": {},
     "output_type": "execute_result"
    }
   ],
   "source": [
    "reviews[\"helpful_review\"] = np.where(reviews[\"total_count\"] !=0, reviews[\"helpful_count\"] / reviews[\"total_count\"], 0).round(2)\n",
    "reviews = reviews.drop(['helpful', 'helpful_count'], axis=1)\n",
    "reviews.head()"
   ]
  },
  {
   "cell_type": "code",
   "execution_count": 19,
   "id": "7026a12e",
   "metadata": {},
   "outputs": [
    {
     "data": {
      "text/plain": [
       "0      6796\n",
       "1      1492\n",
       "2       654\n",
       "3       331\n",
       "4       227\n",
       "       ... \n",
       "136       1\n",
       "114       1\n",
       "77        1\n",
       "82        1\n",
       "68        1\n",
       "Name: total_count, Length: 88, dtype: int64"
      ]
     },
     "execution_count": 19,
     "metadata": {},
     "output_type": "execute_result"
    }
   ],
   "source": [
    "reviews[\"total_count\"].value_counts()"
   ]
  },
  {
   "cell_type": "code",
   "execution_count": 20,
   "id": "4603f37d",
   "metadata": {
    "execution": {
     "iopub.execute_input": "2022-05-08T15:08:00.440472Z",
     "iopub.status.busy": "2022-05-08T15:08:00.439942Z",
     "iopub.status.idle": "2022-05-08T15:08:00.448435Z",
     "shell.execute_reply": "2022-05-08T15:08:00.447775Z"
    },
    "papermill": {
     "duration": 0.082308,
     "end_time": "2022-05-08T15:08:00.450208",
     "exception": false,
     "start_time": "2022-05-08T15:08:00.367900",
     "status": "completed"
    },
    "tags": []
   },
   "outputs": [
    {
     "data": {
      "text/plain": [
       "0.00    7215\n",
       "1.00    2037\n",
       "0.50     266\n",
       "0.67     136\n",
       "0.75     111\n",
       "        ... \n",
       "0.56       1\n",
       "0.15       1\n",
       "0.13       1\n",
       "0.43       1\n",
       "0.69       1\n",
       "Name: helpful_review, Length: 65, dtype: int64"
      ]
     },
     "execution_count": 20,
     "metadata": {},
     "output_type": "execute_result"
    }
   ],
   "source": [
    "reviews['helpful_review'].value_counts()"
   ]
  },
  {
   "cell_type": "markdown",
   "id": "aac04947",
   "metadata": {},
   "source": [
    "### Removing columns"
   ]
  },
  {
   "cell_type": "code",
   "execution_count": 21,
   "id": "44f5f589",
   "metadata": {
    "execution": {
     "iopub.execute_input": "2022-05-08T15:08:00.736600Z",
     "iopub.status.busy": "2022-05-08T15:08:00.736078Z",
     "iopub.status.idle": "2022-05-08T15:08:00.742134Z",
     "shell.execute_reply": "2022-05-08T15:08:00.741569Z"
    },
    "papermill": {
     "duration": 0.080246,
     "end_time": "2022-05-08T15:08:00.743923",
     "exception": false,
     "start_time": "2022-05-08T15:08:00.663677",
     "status": "completed"
    },
    "tags": []
   },
   "outputs": [
    {
     "data": {
      "text/html": [
       "<div>\n",
       "<style scoped>\n",
       "    .dataframe tbody tr th:only-of-type {\n",
       "        vertical-align: middle;\n",
       "    }\n",
       "\n",
       "    .dataframe tbody tr th {\n",
       "        vertical-align: top;\n",
       "    }\n",
       "\n",
       "    .dataframe thead th {\n",
       "        text-align: right;\n",
       "    }\n",
       "</style>\n",
       "<table border=\"1\" class=\"dataframe\">\n",
       "  <thead>\n",
       "    <tr style=\"text-align: right;\">\n",
       "      <th></th>\n",
       "      <th>reviewerID</th>\n",
       "      <th>asin</th>\n",
       "      <th>overall</th>\n",
       "      <th>reviews</th>\n",
       "      <th>Sentiment</th>\n",
       "      <th>month</th>\n",
       "      <th>day</th>\n",
       "      <th>year</th>\n",
       "      <th>total_count</th>\n",
       "      <th>helpful_review</th>\n",
       "    </tr>\n",
       "  </thead>\n",
       "  <tbody>\n",
       "    <tr>\n",
       "      <th>0</th>\n",
       "      <td>A2IBPI20UZIR0U</td>\n",
       "      <td>1384719342</td>\n",
       "      <td>5.0</td>\n",
       "      <td>Not much to write about here, but it does exac...</td>\n",
       "      <td>Positive</td>\n",
       "      <td>02</td>\n",
       "      <td>28</td>\n",
       "      <td>2014</td>\n",
       "      <td>0</td>\n",
       "      <td>0.00</td>\n",
       "    </tr>\n",
       "    <tr>\n",
       "      <th>1</th>\n",
       "      <td>A14VAT5EAX3D9S</td>\n",
       "      <td>1384719342</td>\n",
       "      <td>5.0</td>\n",
       "      <td>The product does exactly as it should and is q...</td>\n",
       "      <td>Positive</td>\n",
       "      <td>03</td>\n",
       "      <td>16</td>\n",
       "      <td>2013</td>\n",
       "      <td>14</td>\n",
       "      <td>0.93</td>\n",
       "    </tr>\n",
       "    <tr>\n",
       "      <th>2</th>\n",
       "      <td>A195EZSQDW3E21</td>\n",
       "      <td>1384719342</td>\n",
       "      <td>5.0</td>\n",
       "      <td>The primary job of this device is to block the...</td>\n",
       "      <td>Positive</td>\n",
       "      <td>08</td>\n",
       "      <td>28</td>\n",
       "      <td>2013</td>\n",
       "      <td>1</td>\n",
       "      <td>1.00</td>\n",
       "    </tr>\n",
       "    <tr>\n",
       "      <th>3</th>\n",
       "      <td>A2C00NNG1ZQQG2</td>\n",
       "      <td>1384719342</td>\n",
       "      <td>5.0</td>\n",
       "      <td>Nice windscreen protects my MXL mic and preven...</td>\n",
       "      <td>Positive</td>\n",
       "      <td>02</td>\n",
       "      <td>14</td>\n",
       "      <td>2014</td>\n",
       "      <td>0</td>\n",
       "      <td>0.00</td>\n",
       "    </tr>\n",
       "    <tr>\n",
       "      <th>4</th>\n",
       "      <td>A94QU4C90B1AX</td>\n",
       "      <td>1384719342</td>\n",
       "      <td>5.0</td>\n",
       "      <td>This pop filter is great. It looks and perform...</td>\n",
       "      <td>Positive</td>\n",
       "      <td>02</td>\n",
       "      <td>21</td>\n",
       "      <td>2014</td>\n",
       "      <td>0</td>\n",
       "      <td>0.00</td>\n",
       "    </tr>\n",
       "  </tbody>\n",
       "</table>\n",
       "</div>"
      ],
      "text/plain": [
       "       reviewerID        asin  overall  \\\n",
       "0  A2IBPI20UZIR0U  1384719342      5.0   \n",
       "1  A14VAT5EAX3D9S  1384719342      5.0   \n",
       "2  A195EZSQDW3E21  1384719342      5.0   \n",
       "3  A2C00NNG1ZQQG2  1384719342      5.0   \n",
       "4   A94QU4C90B1AX  1384719342      5.0   \n",
       "\n",
       "                                             reviews Sentiment month day  \\\n",
       "0  Not much to write about here, but it does exac...  Positive    02  28   \n",
       "1  The product does exactly as it should and is q...  Positive    03  16   \n",
       "2  The primary job of this device is to block the...  Positive    08  28   \n",
       "3  Nice windscreen protects my MXL mic and preven...  Positive    02  14   \n",
       "4  This pop filter is great. It looks and perform...  Positive    02  21   \n",
       "\n",
       "   year  total_count  helpful_review  \n",
       "0  2014            0            0.00  \n",
       "1  2013           14            0.93  \n",
       "2  2013            1            1.00  \n",
       "3  2014            0            0.00  \n",
       "4  2014            0            0.00  "
      ]
     },
     "execution_count": 21,
     "metadata": {},
     "output_type": "execute_result"
    }
   ],
   "source": [
    "reviews = reviews.drop(['reviewerName','unixReviewTime'], axis=1)\n",
    "reviews.head()"
   ]
  },
  {
   "cell_type": "markdown",
   "id": "d5d48ceb",
   "metadata": {},
   "source": [
    "### Add review_len and word_count"
   ]
  },
  {
   "cell_type": "code",
   "execution_count": 22,
   "id": "b9103e87",
   "metadata": {},
   "outputs": [
    {
     "data": {
      "text/html": [
       "<div>\n",
       "<style scoped>\n",
       "    .dataframe tbody tr th:only-of-type {\n",
       "        vertical-align: middle;\n",
       "    }\n",
       "\n",
       "    .dataframe tbody tr th {\n",
       "        vertical-align: top;\n",
       "    }\n",
       "\n",
       "    .dataframe thead th {\n",
       "        text-align: right;\n",
       "    }\n",
       "</style>\n",
       "<table border=\"1\" class=\"dataframe\">\n",
       "  <thead>\n",
       "    <tr style=\"text-align: right;\">\n",
       "      <th></th>\n",
       "      <th>reviewerID</th>\n",
       "      <th>asin</th>\n",
       "      <th>overall</th>\n",
       "      <th>reviews</th>\n",
       "      <th>Sentiment</th>\n",
       "      <th>month</th>\n",
       "      <th>day</th>\n",
       "      <th>year</th>\n",
       "      <th>total_count</th>\n",
       "      <th>helpful_review</th>\n",
       "      <th>review_len</th>\n",
       "      <th>word_count</th>\n",
       "    </tr>\n",
       "  </thead>\n",
       "  <tbody>\n",
       "    <tr>\n",
       "      <th>0</th>\n",
       "      <td>A2IBPI20UZIR0U</td>\n",
       "      <td>1384719342</td>\n",
       "      <td>5.0</td>\n",
       "      <td>Not much to write about here, but it does exac...</td>\n",
       "      <td>Positive</td>\n",
       "      <td>02</td>\n",
       "      <td>28</td>\n",
       "      <td>2014</td>\n",
       "      <td>0</td>\n",
       "      <td>0.00</td>\n",
       "      <td>273</td>\n",
       "      <td>52</td>\n",
       "    </tr>\n",
       "    <tr>\n",
       "      <th>1</th>\n",
       "      <td>A14VAT5EAX3D9S</td>\n",
       "      <td>1384719342</td>\n",
       "      <td>5.0</td>\n",
       "      <td>The product does exactly as it should and is q...</td>\n",
       "      <td>Positive</td>\n",
       "      <td>03</td>\n",
       "      <td>16</td>\n",
       "      <td>2013</td>\n",
       "      <td>14</td>\n",
       "      <td>0.93</td>\n",
       "      <td>549</td>\n",
       "      <td>105</td>\n",
       "    </tr>\n",
       "    <tr>\n",
       "      <th>2</th>\n",
       "      <td>A195EZSQDW3E21</td>\n",
       "      <td>1384719342</td>\n",
       "      <td>5.0</td>\n",
       "      <td>The primary job of this device is to block the...</td>\n",
       "      <td>Positive</td>\n",
       "      <td>08</td>\n",
       "      <td>28</td>\n",
       "      <td>2013</td>\n",
       "      <td>1</td>\n",
       "      <td>1.00</td>\n",
       "      <td>457</td>\n",
       "      <td>82</td>\n",
       "    </tr>\n",
       "    <tr>\n",
       "      <th>3</th>\n",
       "      <td>A2C00NNG1ZQQG2</td>\n",
       "      <td>1384719342</td>\n",
       "      <td>5.0</td>\n",
       "      <td>Nice windscreen protects my MXL mic and preven...</td>\n",
       "      <td>Positive</td>\n",
       "      <td>02</td>\n",
       "      <td>14</td>\n",
       "      <td>2014</td>\n",
       "      <td>0</td>\n",
       "      <td>0.00</td>\n",
       "      <td>236</td>\n",
       "      <td>40</td>\n",
       "    </tr>\n",
       "    <tr>\n",
       "      <th>4</th>\n",
       "      <td>A94QU4C90B1AX</td>\n",
       "      <td>1384719342</td>\n",
       "      <td>5.0</td>\n",
       "      <td>This pop filter is great. It looks and perform...</td>\n",
       "      <td>Positive</td>\n",
       "      <td>02</td>\n",
       "      <td>21</td>\n",
       "      <td>2014</td>\n",
       "      <td>0</td>\n",
       "      <td>0.00</td>\n",
       "      <td>197</td>\n",
       "      <td>36</td>\n",
       "    </tr>\n",
       "  </tbody>\n",
       "</table>\n",
       "</div>"
      ],
      "text/plain": [
       "       reviewerID        asin  overall  \\\n",
       "0  A2IBPI20UZIR0U  1384719342      5.0   \n",
       "1  A14VAT5EAX3D9S  1384719342      5.0   \n",
       "2  A195EZSQDW3E21  1384719342      5.0   \n",
       "3  A2C00NNG1ZQQG2  1384719342      5.0   \n",
       "4   A94QU4C90B1AX  1384719342      5.0   \n",
       "\n",
       "                                             reviews Sentiment month day  \\\n",
       "0  Not much to write about here, but it does exac...  Positive    02  28   \n",
       "1  The product does exactly as it should and is q...  Positive    03  16   \n",
       "2  The primary job of this device is to block the...  Positive    08  28   \n",
       "3  Nice windscreen protects my MXL mic and preven...  Positive    02  14   \n",
       "4  This pop filter is great. It looks and perform...  Positive    02  21   \n",
       "\n",
       "   year  total_count  helpful_review  review_len  word_count  \n",
       "0  2014            0            0.00         273          52  \n",
       "1  2013           14            0.93         549         105  \n",
       "2  2013            1            1.00         457          82  \n",
       "3  2014            0            0.00         236          40  \n",
       "4  2014            0            0.00         197          36  "
      ]
     },
     "execution_count": 22,
     "metadata": {},
     "output_type": "execute_result"
    }
   ],
   "source": [
    "reviews['review_len'] = reviews['reviews'].astype(str).apply(len)\n",
    "reviews['word_count'] = reviews['reviews'].apply(lambda x: len(str(x).split()))\n",
    "reviews.head()"
   ]
  },
  {
   "cell_type": "markdown",
   "id": "d0e36e57",
   "metadata": {
    "papermill": {
     "duration": 0.072621,
     "end_time": "2022-05-08T15:08:03.407462",
     "exception": false,
     "start_time": "2022-05-08T15:08:03.334841",
     "status": "completed"
    },
    "tags": []
   },
   "source": [
    "# Initial EDA"
   ]
  },
  {
   "cell_type": "markdown",
   "id": "a532bdbb",
   "metadata": {
    "papermill": {
     "duration": 0.07244,
     "end_time": "2022-05-08T15:08:03.554340",
     "exception": false,
     "start_time": "2022-05-08T15:08:03.481900",
     "status": "completed"
    },
    "tags": []
   },
   "source": [
    "## Sentiment vs Helpful Review"
   ]
  },
  {
   "cell_type": "markdown",
   "id": "dd259fa2",
   "metadata": {},
   "source": [
    "We can see that once we adjust the mean, that customers find positive reviews the most helpful, followed by neutral and negative. The positive reviews also seem to be found as consistently helpful whereas neutral and negative reviews can vary widely."
   ]
  },
  {
   "cell_type": "code",
   "execution_count": 25,
   "id": "7085427a",
   "metadata": {
    "execution": {
     "iopub.execute_input": "2022-05-08T15:08:03.700564Z",
     "iopub.status.busy": "2022-05-08T15:08:03.699742Z",
     "iopub.status.idle": "2022-05-08T15:08:03.711274Z",
     "shell.execute_reply": "2022-05-08T15:08:03.710474Z"
    },
    "papermill": {
     "duration": 0.086644,
     "end_time": "2022-05-08T15:08:03.713088",
     "exception": false,
     "start_time": "2022-05-08T15:08:03.626444",
     "status": "completed"
    },
    "scrolled": true,
    "tags": []
   },
   "outputs": [
    {
     "data": {
      "text/html": [
       "<div>\n",
       "<style scoped>\n",
       "    .dataframe tbody tr th:only-of-type {\n",
       "        vertical-align: middle;\n",
       "    }\n",
       "\n",
       "    .dataframe tbody tr th {\n",
       "        vertical-align: top;\n",
       "    }\n",
       "\n",
       "    .dataframe thead th {\n",
       "        text-align: right;\n",
       "    }\n",
       "</style>\n",
       "<table border=\"1\" class=\"dataframe\">\n",
       "  <thead>\n",
       "    <tr style=\"text-align: right;\">\n",
       "      <th></th>\n",
       "      <th>helpful_review</th>\n",
       "    </tr>\n",
       "    <tr>\n",
       "      <th>Sentiment</th>\n",
       "      <th></th>\n",
       "    </tr>\n",
       "  </thead>\n",
       "  <tbody>\n",
       "    <tr>\n",
       "      <th>Negative</th>\n",
       "      <td>0.307559</td>\n",
       "    </tr>\n",
       "    <tr>\n",
       "      <th>Neutral</th>\n",
       "      <td>0.275687</td>\n",
       "    </tr>\n",
       "    <tr>\n",
       "      <th>Positive</th>\n",
       "      <td>0.259947</td>\n",
       "    </tr>\n",
       "  </tbody>\n",
       "</table>\n",
       "</div>"
      ],
      "text/plain": [
       "           helpful_review\n",
       "Sentiment                \n",
       "Negative         0.307559\n",
       "Neutral          0.275687\n",
       "Positive         0.259947"
      ]
     },
     "execution_count": 25,
     "metadata": {},
     "output_type": "execute_result"
    }
   ],
   "source": [
    "pd.DataFrame(reviews.groupby('Sentiment')['helpful_review'].mean())"
   ]
  },
  {
   "cell_type": "code",
   "execution_count": 26,
   "id": "91f6ebb0",
   "metadata": {
    "execution": {
     "iopub.execute_input": "2022-05-08T15:08:03.700564Z",
     "iopub.status.busy": "2022-05-08T15:08:03.699742Z",
     "iopub.status.idle": "2022-05-08T15:08:03.711274Z",
     "shell.execute_reply": "2022-05-08T15:08:03.710474Z"
    },
    "papermill": {
     "duration": 0.086644,
     "end_time": "2022-05-08T15:08:03.713088",
     "exception": false,
     "start_time": "2022-05-08T15:08:03.626444",
     "status": "completed"
    },
    "scrolled": true,
    "tags": []
   },
   "outputs": [
    {
     "data": {
      "text/html": [
       "<div>\n",
       "<style scoped>\n",
       "    .dataframe tbody tr th:only-of-type {\n",
       "        vertical-align: middle;\n",
       "    }\n",
       "\n",
       "    .dataframe tbody tr th {\n",
       "        vertical-align: top;\n",
       "    }\n",
       "\n",
       "    .dataframe thead th {\n",
       "        text-align: right;\n",
       "    }\n",
       "</style>\n",
       "<table border=\"1\" class=\"dataframe\">\n",
       "  <thead>\n",
       "    <tr style=\"text-align: right;\">\n",
       "      <th></th>\n",
       "      <th>helpful_review</th>\n",
       "    </tr>\n",
       "    <tr>\n",
       "      <th>Sentiment</th>\n",
       "      <th></th>\n",
       "    </tr>\n",
       "  </thead>\n",
       "  <tbody>\n",
       "    <tr>\n",
       "      <th>Negative</th>\n",
       "      <td>0.493574</td>\n",
       "    </tr>\n",
       "    <tr>\n",
       "      <th>Neutral</th>\n",
       "      <td>0.606353</td>\n",
       "    </tr>\n",
       "    <tr>\n",
       "      <th>Positive</th>\n",
       "      <td>0.832180</td>\n",
       "    </tr>\n",
       "  </tbody>\n",
       "</table>\n",
       "</div>"
      ],
      "text/plain": [
       "           helpful_review\n",
       "Sentiment                \n",
       "Negative         0.493574\n",
       "Neutral          0.606353\n",
       "Positive         0.832180"
      ]
     },
     "execution_count": 26,
     "metadata": {},
     "output_type": "execute_result"
    }
   ],
   "source": [
    "# Adjusted mean (removing those with 0 reviews from average as they have helpful_review = 0)\n",
    "pd.DataFrame(reviews[reviews['total_count']!=0].groupby('Sentiment')['helpful_review'].mean())"
   ]
  },
  {
   "cell_type": "code",
   "execution_count": 27,
   "id": "2070eb5e",
   "metadata": {
    "execution": {
     "iopub.execute_input": "2022-05-08T15:08:04.007071Z",
     "iopub.status.busy": "2022-05-08T15:08:04.006568Z",
     "iopub.status.idle": "2022-05-08T15:08:04.317533Z",
     "shell.execute_reply": "2022-05-08T15:08:04.316476Z"
    },
    "papermill": {
     "duration": 0.387781,
     "end_time": "2022-05-08T15:08:04.319682",
     "exception": false,
     "start_time": "2022-05-08T15:08:03.931901",
     "status": "completed"
    },
    "tags": []
   },
   "outputs": [
    {
     "data": {
      "image/png": "[encoded data removed]",
      "text/plain": [
       "<Figure size 640x480 with 1 Axes>"
      ]
     },
     "metadata": {},
     "output_type": "display_data"
    }
   ],
   "source": [
    "sns.boxplot(x = reviews[\"Sentiment\"], y=reviews[reviews['total_count']!=0][\"helpful_review\"])\n",
    "plt.title('Sentiment vs Helpfulness')\n",
    "plt.xlabel('Sentiment Categories')\n",
    "plt.ylabel('Helpful Review Rate')\n",
    "plt.show()"
   ]
  },
  {
   "cell_type": "markdown",
   "id": "95499156",
   "metadata": {
    "papermill": {
     "duration": 0.077958,
     "end_time": "2022-05-08T15:08:05.004588",
     "exception": false,
     "start_time": "2022-05-08T15:08:04.926630",
     "status": "completed"
    },
    "tags": []
   },
   "source": [
    "## Sentiment vs Date"
   ]
  },
  {
   "cell_type": "markdown",
   "id": "1f7734f9",
   "metadata": {},
   "source": [
    "Data is skewed towards the years 2010 and above. However, with regards to days, reviews are all in all uniformly distributed."
   ]
  },
  {
   "cell_type": "code",
   "execution_count": 28,
   "id": "61ea73c2",
   "metadata": {
    "scrolled": false
   },
   "outputs": [
    {
     "data": {
      "image/png": "[encoded data removed]",
      "text/plain": [
       "<Figure size 640x480 with 1 Axes>"
      ]
     },
     "metadata": {},
     "output_type": "display_data"
    }
   ],
   "source": [
    "# Sentiment by Year \n",
    "year_order = sorted(reviews['year'].unique(), key = lambda x: int(x))\n",
    "sns.countplot(x='year', hue='Sentiment', data=reviews, order=year_order)\n",
    "plt.title('Sentiment vs Year')\n",
    "plt.show()"
   ]
  },
  {
   "cell_type": "code",
   "execution_count": 29,
   "id": "6b039154",
   "metadata": {},
   "outputs": [
    {
     "data": {
      "image/png": "[encoded data removed]",
      "text/plain": [
       "<Figure size 640x480 with 1 Axes>"
      ]
     },
     "metadata": {},
     "output_type": "display_data"
    }
   ],
   "source": [
    "# Reviews per day\n",
    "day_order = sorted(reviews['day'].unique(), key = lambda x: int(x))\n",
    "sns.countplot(x='day', data=reviews, order=day_order)\n",
    "plt.title('Review count per day')\n",
    "plt.show()"
   ]
  },
  {
   "cell_type": "markdown",
   "id": "456a0630",
   "metadata": {},
   "source": [
    "## Sentiment vs Review Length / Word Count"
   ]
  },
  {
   "cell_type": "markdown",
   "id": "9fac8bd7",
   "metadata": {},
   "source": [
    "There is no significant difference between sentiments regarding these features."
   ]
  },
  {
   "cell_type": "code",
   "execution_count": 30,
   "id": "9de06ecc",
   "metadata": {},
   "outputs": [
    {
     "data": {
      "text/plain": [
       "<AxesSubplot:xlabel='Sentiment', ylabel='review_len'>"
      ]
     },
     "execution_count": 30,
     "metadata": {},
     "output_type": "execute_result"
    },
    {
     "data": {
      "image/png": "[encoded data removed]",
      "text/plain": [
       "<Figure size 640x480 with 1 Axes>"
      ]
     },
     "metadata": {},
     "output_type": "display_data"
    }
   ],
   "source": [
    "sns.boxplot(x=\"Sentiment\", y=\"review_len\", data=reviews)"
   ]
  },
  {
   "cell_type": "code",
   "execution_count": 31,
   "id": "0a52de3f",
   "metadata": {},
   "outputs": [
    {
     "data": {
      "text/plain": [
       "<AxesSubplot:xlabel='Sentiment', ylabel='word_count'>"
      ]
     },
     "execution_count": 31,
     "metadata": {},
     "output_type": "execute_result"
    },
    {
     "data": {
      "image/png": "[encoded data removed]",
      "text/plain": [
       "<Figure size 640x480 with 1 Axes>"
      ]
     },
     "metadata": {},
     "output_type": "display_data"
    }
   ],
   "source": [
    "sns.boxplot(x=\"Sentiment\", y=\"word_count\", data=reviews)"
   ]
  },
  {
   "cell_type": "markdown",
   "id": "be279ad7",
   "metadata": {},
   "source": [
    "## Per Product"
   ]
  },
  {
   "cell_type": "code",
   "execution_count": 32,
   "id": "ca50ca6f",
   "metadata": {},
   "outputs": [],
   "source": [
    "total_per_product = reviews.groupby('asin')['Sentiment'].size()\n",
    "sentiment_pct = reviews.groupby(['asin', 'Sentiment']).size() / total_per_product"
   ]
  },
  {
   "cell_type": "code",
   "execution_count": 33,
   "id": "19263077",
   "metadata": {},
   "outputs": [
    {
     "name": "stdout",
     "output_type": "stream",
     "text": [
      "asin        Sentiment\n",
      "B0002E37MM  Negative     0.400000\n",
      "B0002E3MRW  Negative     0.400000\n",
      "B0002GX5NG  Negative     0.272727\n",
      "B0002H0SKS  Negative     0.400000\n",
      "B0002KYXTM  Negative     0.285714\n",
      "B0002KZEMC  Negative     0.272727\n",
      "B0002Z2D08  Negative     0.428571\n",
      "B0002ZO3LK  Negative     0.285714\n",
      "B0007L8BQW  Negative     0.428571\n",
      "B000A2HDXA  Negative     0.272727\n",
      "B000CHJTG2  Negative     0.400000\n",
      "B000OY4WDI  Negative     0.333333\n",
      "B000ZJTPLG  Negative     0.571429\n",
      "B0014IEBM0  Negative     0.428571\n",
      "B001E43SK0  Negative     0.400000\n",
      "B001GD07SK  Negative     0.375000\n",
      "B001LJUVO4  Negative     0.375000\n",
      "B001UJEKZ6  Negative     0.333333\n",
      "B0025V1REU  Negative     0.428571\n",
      "B0027V760M  Negative     0.272727\n",
      "B002C741B8  Negative     0.333333\n",
      "B002HJ61PK  Negative     0.333333\n",
      "B002IC1D5E  Negative     0.333333\n",
      "B003AM913C  Negative     0.400000\n",
      "B003KQY8DQ  Negative     0.333333\n",
      "B003QTM9O2  Negative     0.400000\n",
      "B003W47NII  Negative     0.272727\n",
      "B00466HM28  Negative     0.428571\n",
      "B004Z8VQ2O  Negative     0.428571\n",
      "B0050CEEIW  Negative     0.400000\n",
      "B008BTTQI4  Negative     0.285714\n",
      "B009ZX8ZJG  Negative     0.285714\n",
      "dtype: float64\n",
      "Products with considerable negative reviews\n",
      "Index(['B0002E37MM', 'B0002E3MRW', 'B0002GX5NG', 'B0002H0SKS', 'B0002KYXTM',\n",
      "       'B0002KZEMC', 'B0002Z2D08', 'B0002ZO3LK', 'B0007L8BQW', 'B000A2HDXA',\n",
      "       'B000CHJTG2', 'B000OY4WDI', 'B000ZJTPLG', 'B0014IEBM0', 'B001E43SK0',\n",
      "       'B001GD07SK', 'B001LJUVO4', 'B001UJEKZ6', 'B0025V1REU', 'B0027V760M',\n",
      "       'B002C741B8', 'B002HJ61PK', 'B002IC1D5E', 'B003AM913C', 'B003KQY8DQ',\n",
      "       'B003QTM9O2', 'B003W47NII', 'B00466HM28', 'B004Z8VQ2O', 'B0050CEEIW',\n",
      "       'B008BTTQI4', 'B009ZX8ZJG'],\n",
      "      dtype='object', name='asin')\n"
     ]
    }
   ],
   "source": [
    "# Bad Products\n",
    "bad_sentiment_pct = sentiment_pct[(sentiment_pct.index.get_level_values('Sentiment') == 'Negative') & (sentiment_pct > 0.25)]\n",
    "print(bad_sentiment_pct)\n",
    "\n",
    "print(\"Products with considerable negative reviews\")\n",
    "print(bad_sentiment_pct.index.get_level_values('asin'))"
   ]
  },
  {
   "cell_type": "code",
   "execution_count": 34,
   "id": "d4694bbc",
   "metadata": {},
   "outputs": [
    {
     "name": "stdout",
     "output_type": "stream",
     "text": [
      "asin        Sentiment\n",
      "1384719342  Positive     1.000000\n",
      "B00004Y2UT  Positive     0.833333\n",
      "B000068NSX  Positive     1.000000\n",
      "B000068NTU  Positive     1.000000\n",
      "B000068NVI  Positive     1.000000\n",
      "                           ...   \n",
      "B00H02C9TG  Positive     1.000000\n",
      "B00HFRXACG  Positive     1.000000\n",
      "B00IZCSW3M  Positive     0.958333\n",
      "B00J4TBMVO  Positive     0.875000\n",
      "B00JBIVXGC  Positive     0.923077\n",
      "Length: 736, dtype: float64\n",
      "Products with great positive reviews\n",
      "Index(['1384719342', 'B00004Y2UT', 'B000068NSX', 'B000068NTU', 'B000068NVI',\n",
      "       'B000068NW5', 'B000068NZG', 'B000068O1N', 'B000068O3D', 'B000068O3X',\n",
      "       ...\n",
      "       'B00EIMZG46', 'B00EPWAQS0', 'B00EQDITGO', 'B00F2PKRJW', 'B00GTSM8FW',\n",
      "       'B00H02C9TG', 'B00HFRXACG', 'B00IZCSW3M', 'B00J4TBMVO', 'B00JBIVXGC'],\n",
      "      dtype='object', name='asin', length=736)\n"
     ]
    }
   ],
   "source": [
    "# Good Products\n",
    "good_sentiment_pct = sentiment_pct[(sentiment_pct.index.get_level_values('Sentiment') == 'Positive') & (sentiment_pct > 0.75)]\n",
    "print(good_sentiment_pct)\n",
    "\n",
    "print(\"Products with great positive reviews\")\n",
    "print(good_sentiment_pct.index.get_level_values('asin'))"
   ]
  },
  {
   "cell_type": "markdown",
   "id": "b88ae8e6",
   "metadata": {},
   "source": [
    "# Model Building"
   ]
  },
  {
   "cell_type": "markdown",
   "id": "7e1f979a",
   "metadata": {},
   "source": [
    "## n-gram Analysis"
   ]
  },
  {
   "cell_type": "code",
   "execution_count": 41,
   "id": "5482faf0",
   "metadata": {},
   "outputs": [],
   "source": [
    "stop_words= ['yourselves', 'between', 'whom', 'itself', 'is', \"she's\", 'up', 'herself', 'here', 'your', 'each', \n",
    "             'we', 'he', 'my', \"you've\", 'having', 'in', 'both', 'for', 'themselves', 'are', 'them', 'other',\n",
    "             'and', 'an', 'during', 'their', 'can', 'yourself', 'she', 'until', 'so', 'these', 'ours', 'above', \n",
    "             'what', 'while', 'have', 're', 'more', 'only', \"needn't\", 'when', 'just', 'that', 'were', \"don't\", \n",
    "             'very', 'should', 'any', 'y', 'isn', 'who',  'a', 'they', 'to', 'too', \"should've\", 'has', 'before',\n",
    "             'into', 'yours', \"it's\", 'do', 'against', 'on',  'now', 'her', 've', 'd', 'by', 'am', 'from', \n",
    "             'about', 'further', \"that'll\", \"you'd\", 'you', 'as', 'how', 'been', 'the', 'or', 'doing', 'such',\n",
    "             'his', 'himself', 'ourselves',  'was', 'through', 'out', 'below', 'own', 'myself', 'theirs', \n",
    "             'me', 'why', 'once',  'him', 'than', 'be', 'most', \"you'll\", 'same', 'some', 'with', 'few', 'it',\n",
    "             'at', 'after', 'its', 'which', 'there','our', 'this', 'hers', 'being', 'did', 'of', 'had', 'under',\n",
    "             'over','again', 'where', 'those', 'then', \"you're\", 'i', 'because', 'does', 'all']"
   ]
  },
  {
   "cell_type": "code",
   "execution_count": 42,
   "id": "22283599",
   "metadata": {
    "execution": {
     "iopub.execute_input": "2022-05-08T15:08:14.386442Z",
     "iopub.status.busy": "2022-05-08T15:08:14.385960Z",
     "iopub.status.idle": "2022-05-08T15:08:14.408997Z",
     "shell.execute_reply": "2022-05-08T15:08:14.408401Z"
    },
    "papermill": {
     "duration": 0.180548,
     "end_time": "2022-05-08T15:08:14.411017",
     "exception": false,
     "start_time": "2022-05-08T15:08:14.230469",
     "status": "completed"
    },
    "tags": []
   },
   "outputs": [],
   "source": [
    "#Filtering data\n",
    "positive_review = reviews[reviews[\"Sentiment\"]=='Positive'].dropna()\n",
    "neutral_review = reviews[reviews[\"Sentiment\"]=='Neutral'].dropna()\n",
    "negative_review = reviews[reviews[\"Sentiment\"]=='Negative'].dropna()\n",
    "\n",
    "## custom function for ngram generation ##\n",
    "def generate_ngrams(text, n_gram = 1):\n",
    "    token = [token for token in text.lower().split(\" \") if token != \"\" if token not in stop_words]\n",
    "    ngrams = zip(*[token[i:] for i in range(n_gram)])\n",
    "    return [\" \".join(ngram) for ngram in ngrams]"
   ]
  },
  {
   "cell_type": "code",
   "execution_count": 43,
   "id": "91a053bd",
   "metadata": {
    "execution": {
     "iopub.execute_input": "2022-05-08T15:08:14.719714Z",
     "iopub.status.busy": "2022-05-08T15:08:14.719432Z",
     "iopub.status.idle": "2022-05-08T15:08:14.739137Z",
     "shell.execute_reply": "2022-05-08T15:08:14.738331Z"
    },
    "papermill": {
     "duration": 0.175453,
     "end_time": "2022-05-08T15:08:14.741016",
     "exception": false,
     "start_time": "2022-05-08T15:08:14.565563",
     "status": "completed"
    },
    "tags": []
   },
   "outputs": [
    {
     "data": {
      "text/html": [
       "<div>\n",
       "<style scoped>\n",
       "    .dataframe tbody tr th:only-of-type {\n",
       "        vertical-align: middle;\n",
       "    }\n",
       "\n",
       "    .dataframe tbody tr th {\n",
       "        vertical-align: top;\n",
       "    }\n",
       "\n",
       "    .dataframe thead th {\n",
       "        text-align: right;\n",
       "    }\n",
       "</style>\n",
       "<table border=\"1\" class=\"dataframe\">\n",
       "  <thead>\n",
       "    <tr style=\"text-align: right;\">\n",
       "      <th></th>\n",
       "      <th>reviewerID</th>\n",
       "      <th>asin</th>\n",
       "      <th>overall</th>\n",
       "      <th>reviews</th>\n",
       "      <th>Sentiment</th>\n",
       "      <th>month</th>\n",
       "      <th>day</th>\n",
       "      <th>year</th>\n",
       "      <th>total_count</th>\n",
       "      <th>helpful_review</th>\n",
       "      <th>review_len</th>\n",
       "      <th>word_count</th>\n",
       "    </tr>\n",
       "  </thead>\n",
       "  <tbody>\n",
       "    <tr>\n",
       "      <th>15</th>\n",
       "      <td>A2PD27UKAD3Q00</td>\n",
       "      <td>B00005ML71</td>\n",
       "      <td>2.0</td>\n",
       "      <td>I bought this to use with my keyboard. I wasn'...</td>\n",
       "      <td>Negative</td>\n",
       "      <td>08</td>\n",
       "      <td>17</td>\n",
       "      <td>2013</td>\n",
       "      <td>0</td>\n",
       "      <td>0.0</td>\n",
       "      <td>668</td>\n",
       "      <td>122</td>\n",
       "    </tr>\n",
       "    <tr>\n",
       "      <th>50</th>\n",
       "      <td>A12ABV9NU02O29</td>\n",
       "      <td>B000068NW5</td>\n",
       "      <td>2.0</td>\n",
       "      <td>I didn't expect this cable to be so thin. It's...</td>\n",
       "      <td>Negative</td>\n",
       "      <td>07</td>\n",
       "      <td>6</td>\n",
       "      <td>2011</td>\n",
       "      <td>2</td>\n",
       "      <td>1.0</td>\n",
       "      <td>404</td>\n",
       "      <td>71</td>\n",
       "    </tr>\n",
       "    <tr>\n",
       "      <th>52</th>\n",
       "      <td>A1L7M2JXN4EZCR</td>\n",
       "      <td>B000068NW5</td>\n",
       "      <td>1.0</td>\n",
       "      <td>It hums, crackles, and I think I'm having prob...</td>\n",
       "      <td>Negative</td>\n",
       "      <td>02</td>\n",
       "      <td>9</td>\n",
       "      <td>2014</td>\n",
       "      <td>0</td>\n",
       "      <td>0.0</td>\n",
       "      <td>323</td>\n",
       "      <td>62</td>\n",
       "    </tr>\n",
       "    <tr>\n",
       "      <th>89</th>\n",
       "      <td>A3UD50M7M72150</td>\n",
       "      <td>B000068NW5</td>\n",
       "      <td>1.0</td>\n",
       "      <td>I'm a pro-cheapo and I hated this thing. They'...</td>\n",
       "      <td>Negative</td>\n",
       "      <td>03</td>\n",
       "      <td>14</td>\n",
       "      <td>2014</td>\n",
       "      <td>0</td>\n",
       "      <td>0.0</td>\n",
       "      <td>150</td>\n",
       "      <td>26</td>\n",
       "    </tr>\n",
       "    <tr>\n",
       "      <th>98</th>\n",
       "      <td>A1W3CEEQBJ4GTN</td>\n",
       "      <td>B000068NZC</td>\n",
       "      <td>2.0</td>\n",
       "      <td>I bought this for my Canon Vixia HF G10 Video ...</td>\n",
       "      <td>Negative</td>\n",
       "      <td>09</td>\n",
       "      <td>16</td>\n",
       "      <td>2013</td>\n",
       "      <td>0</td>\n",
       "      <td>0.0</td>\n",
       "      <td>1023</td>\n",
       "      <td>196</td>\n",
       "    </tr>\n",
       "    <tr>\n",
       "      <th>...</th>\n",
       "      <td>...</td>\n",
       "      <td>...</td>\n",
       "      <td>...</td>\n",
       "      <td>...</td>\n",
       "      <td>...</td>\n",
       "      <td>...</td>\n",
       "      <td>...</td>\n",
       "      <td>...</td>\n",
       "      <td>...</td>\n",
       "      <td>...</td>\n",
       "      <td>...</td>\n",
       "      <td>...</td>\n",
       "    </tr>\n",
       "    <tr>\n",
       "      <th>10171</th>\n",
       "      <td>A2Y2U697SS98E1</td>\n",
       "      <td>B00F2PKRJW</td>\n",
       "      <td>1.0</td>\n",
       "      <td>I really wanted to like these, but they're a f...</td>\n",
       "      <td>Negative</td>\n",
       "      <td>06</td>\n",
       "      <td>12</td>\n",
       "      <td>2014</td>\n",
       "      <td>1</td>\n",
       "      <td>0.0</td>\n",
       "      <td>336</td>\n",
       "      <td>63</td>\n",
       "    </tr>\n",
       "    <tr>\n",
       "      <th>10178</th>\n",
       "      <td>A768OB1LNE356</td>\n",
       "      <td>B00FXKIG5I</td>\n",
       "      <td>2.0</td>\n",
       "      <td>The larger ones sometimes have the neck snap s...</td>\n",
       "      <td>Negative</td>\n",
       "      <td>03</td>\n",
       "      <td>22</td>\n",
       "      <td>2014</td>\n",
       "      <td>2</td>\n",
       "      <td>0.5</td>\n",
       "      <td>445</td>\n",
       "      <td>86</td>\n",
       "    </tr>\n",
       "    <tr>\n",
       "      <th>10187</th>\n",
       "      <td>A3AOPVQ7EZHTWA</td>\n",
       "      <td>B00GTSM8FW</td>\n",
       "      <td>2.0</td>\n",
       "      <td>The tension screw adjustment remains the best ...</td>\n",
       "      <td>Negative</td>\n",
       "      <td>04</td>\n",
       "      <td>24</td>\n",
       "      <td>2014</td>\n",
       "      <td>0</td>\n",
       "      <td>0.0</td>\n",
       "      <td>2155</td>\n",
       "      <td>380</td>\n",
       "    </tr>\n",
       "    <tr>\n",
       "      <th>10189</th>\n",
       "      <td>A1SD1C8XK3Z3V1</td>\n",
       "      <td>B00GTSM8FW</td>\n",
       "      <td>2.0</td>\n",
       "      <td>I am a fan of Planet Waves NS capos, but this ...</td>\n",
       "      <td>Negative</td>\n",
       "      <td>06</td>\n",
       "      <td>2</td>\n",
       "      <td>2014</td>\n",
       "      <td>1</td>\n",
       "      <td>1.0</td>\n",
       "      <td>528</td>\n",
       "      <td>106</td>\n",
       "    </tr>\n",
       "    <tr>\n",
       "      <th>10247</th>\n",
       "      <td>A3VDSGNIS92OVZ</td>\n",
       "      <td>B00J4TBMVO</td>\n",
       "      <td>2.0</td>\n",
       "      <td>I was looking forward to trying these, as I've...</td>\n",
       "      <td>Negative</td>\n",
       "      <td>06</td>\n",
       "      <td>24</td>\n",
       "      <td>2014</td>\n",
       "      <td>2</td>\n",
       "      <td>1.0</td>\n",
       "      <td>1032</td>\n",
       "      <td>177</td>\n",
       "    </tr>\n",
       "  </tbody>\n",
       "</table>\n",
       "<p>467 rows × 12 columns</p>\n",
       "</div>"
      ],
      "text/plain": [
       "           reviewerID        asin  overall  \\\n",
       "15     A2PD27UKAD3Q00  B00005ML71      2.0   \n",
       "50     A12ABV9NU02O29  B000068NW5      2.0   \n",
       "52     A1L7M2JXN4EZCR  B000068NW5      1.0   \n",
       "89     A3UD50M7M72150  B000068NW5      1.0   \n",
       "98     A1W3CEEQBJ4GTN  B000068NZC      2.0   \n",
       "...               ...         ...      ...   \n",
       "10171  A2Y2U697SS98E1  B00F2PKRJW      1.0   \n",
       "10178   A768OB1LNE356  B00FXKIG5I      2.0   \n",
       "10187  A3AOPVQ7EZHTWA  B00GTSM8FW      2.0   \n",
       "10189  A1SD1C8XK3Z3V1  B00GTSM8FW      2.0   \n",
       "10247  A3VDSGNIS92OVZ  B00J4TBMVO      2.0   \n",
       "\n",
       "                                                 reviews Sentiment month day  \\\n",
       "15     I bought this to use with my keyboard. I wasn'...  Negative    08  17   \n",
       "50     I didn't expect this cable to be so thin. It's...  Negative    07   6   \n",
       "52     It hums, crackles, and I think I'm having prob...  Negative    02   9   \n",
       "89     I'm a pro-cheapo and I hated this thing. They'...  Negative    03  14   \n",
       "98     I bought this for my Canon Vixia HF G10 Video ...  Negative    09  16   \n",
       "...                                                  ...       ...   ...  ..   \n",
       "10171  I really wanted to like these, but they're a f...  Negative    06  12   \n",
       "10178  The larger ones sometimes have the neck snap s...  Negative    03  22   \n",
       "10187  The tension screw adjustment remains the best ...  Negative    04  24   \n",
       "10189  I am a fan of Planet Waves NS capos, but this ...  Negative    06   2   \n",
       "10247  I was looking forward to trying these, as I've...  Negative    06  24   \n",
       "\n",
       "       year  total_count  helpful_review  review_len  word_count  \n",
       "15     2013            0             0.0         668         122  \n",
       "50     2011            2             1.0         404          71  \n",
       "52     2014            0             0.0         323          62  \n",
       "89     2014            0             0.0         150          26  \n",
       "98     2013            0             0.0        1023         196  \n",
       "...     ...          ...             ...         ...         ...  \n",
       "10171  2014            1             0.0         336          63  \n",
       "10178  2014            2             0.5         445          86  \n",
       "10187  2014            0             0.0        2155         380  \n",
       "10189  2014            1             1.0         528         106  \n",
       "10247  2014            2             1.0        1032         177  \n",
       "\n",
       "[467 rows x 12 columns]"
      ]
     },
     "execution_count": 43,
     "metadata": {},
     "output_type": "execute_result"
    }
   ],
   "source": [
    "negative_review"
   ]
  },
  {
   "cell_type": "code",
   "execution_count": 44,
   "id": "11953852",
   "metadata": {
    "execution": {
     "iopub.execute_input": "2022-05-08T15:08:15.050181Z",
     "iopub.status.busy": "2022-05-08T15:08:15.049938Z",
     "iopub.status.idle": "2022-05-08T15:08:15.054248Z",
     "shell.execute_reply": "2022-05-08T15:08:15.053672Z"
    },
    "papermill": {
     "duration": 0.161101,
     "end_time": "2022-05-08T15:08:15.055828",
     "exception": false,
     "start_time": "2022-05-08T15:08:14.894727",
     "status": "completed"
    },
    "tags": []
   },
   "outputs": [],
   "source": [
    "# custom function for horizontal bar chart ##\n",
    "def horizontal_bar_chart(df, color):\n",
    "    trace = go.Bar(\n",
    "        y =df[\"word\"].values[::-1],\n",
    "        x = df[\"wordcount\"].values[::-1],\n",
    "        showlegend = False,\n",
    "        orientation = 'h',\n",
    "        marker = dict(\n",
    "            color = color,\n",
    "        ),\n",
    "    )\n",
    "    return trace"
   ]
  },
  {
   "cell_type": "code",
   "execution_count": 45,
   "id": "53e451dd",
   "metadata": {
    "execution": {
     "iopub.execute_input": "2022-05-08T15:08:15.381572Z",
     "iopub.status.busy": "2022-05-08T15:08:15.380839Z",
     "iopub.status.idle": "2022-05-08T15:08:15.688386Z",
     "shell.execute_reply": "2022-05-08T15:08:15.687476Z"
    },
    "papermill": {
     "duration": 0.464791,
     "end_time": "2022-05-08T15:08:15.690618",
     "exception": false,
     "start_time": "2022-05-08T15:08:15.225827",
     "status": "completed"
    },
    "tags": []
   },
   "outputs": [
    {
     "ename": "NameError",
     "evalue": "name 'go' is not defined",
     "output_type": "error",
     "traceback": [
      "\u001b[1;31m---------------------------------------------------------------------------\u001b[0m",
      "\u001b[1;31mNameError\u001b[0m                                 Traceback (most recent call last)",
      "\u001b[1;32m~\\AppData\\Local\\Temp\\ipykernel_35364\\2804691647.py\u001b[0m in \u001b[0;36m<module>\u001b[1;34m\u001b[0m\n\u001b[0;32m      6\u001b[0m \u001b[0mfd_sorted\u001b[0m \u001b[1;33m=\u001b[0m \u001b[0mpd\u001b[0m\u001b[1;33m.\u001b[0m\u001b[0mDataFrame\u001b[0m\u001b[1;33m(\u001b[0m\u001b[0msorted\u001b[0m\u001b[1;33m(\u001b[0m\u001b[0mfreq_dict\u001b[0m\u001b[1;33m.\u001b[0m\u001b[0mitems\u001b[0m\u001b[1;33m(\u001b[0m\u001b[1;33m)\u001b[0m\u001b[1;33m,\u001b[0m \u001b[0mkey\u001b[0m\u001b[1;33m=\u001b[0m\u001b[1;32mlambda\u001b[0m \u001b[0mx\u001b[0m\u001b[1;33m:\u001b[0m \u001b[0mx\u001b[0m\u001b[1;33m[\u001b[0m\u001b[1;36m1\u001b[0m\u001b[1;33m]\u001b[0m\u001b[1;33m)\u001b[0m\u001b[1;33m[\u001b[0m\u001b[1;33m:\u001b[0m\u001b[1;33m:\u001b[0m\u001b[1;33m-\u001b[0m\u001b[1;36m1\u001b[0m\u001b[1;33m]\u001b[0m\u001b[1;33m)\u001b[0m\u001b[1;33m\u001b[0m\u001b[1;33m\u001b[0m\u001b[0m\n\u001b[0;32m      7\u001b[0m \u001b[0mfd_sorted\u001b[0m\u001b[1;33m.\u001b[0m\u001b[0mcolumns\u001b[0m \u001b[1;33m=\u001b[0m \u001b[1;33m[\u001b[0m\u001b[1;34m\"word\"\u001b[0m\u001b[1;33m,\u001b[0m \u001b[1;34m\"wordcount\"\u001b[0m\u001b[1;33m]\u001b[0m\u001b[1;33m\u001b[0m\u001b[1;33m\u001b[0m\u001b[0m\n\u001b[1;32m----> 8\u001b[1;33m \u001b[0mtrace0\u001b[0m \u001b[1;33m=\u001b[0m \u001b[0mhorizontal_bar_chart\u001b[0m\u001b[1;33m(\u001b[0m\u001b[0mfd_sorted\u001b[0m\u001b[1;33m.\u001b[0m\u001b[0mhead\u001b[0m\u001b[1;33m(\u001b[0m\u001b[1;36m20\u001b[0m\u001b[1;33m)\u001b[0m\u001b[1;33m,\u001b[0m \u001b[1;34m'blue'\u001b[0m\u001b[1;33m)\u001b[0m\u001b[1;33m\u001b[0m\u001b[1;33m\u001b[0m\u001b[0m\n\u001b[0m\u001b[0;32m      9\u001b[0m \u001b[1;33m\u001b[0m\u001b[0m\n\u001b[0;32m     10\u001b[0m \u001b[1;33m\u001b[0m\u001b[0m\n",
      "\u001b[1;32m~\\AppData\\Local\\Temp\\ipykernel_35364\\2265344801.py\u001b[0m in \u001b[0;36mhorizontal_bar_chart\u001b[1;34m(df, color)\u001b[0m\n\u001b[0;32m      1\u001b[0m \u001b[1;31m# custom function for horizontal bar chart ##\u001b[0m\u001b[1;33m\u001b[0m\u001b[1;33m\u001b[0m\u001b[0m\n\u001b[0;32m      2\u001b[0m \u001b[1;32mdef\u001b[0m \u001b[0mhorizontal_bar_chart\u001b[0m\u001b[1;33m(\u001b[0m\u001b[0mdf\u001b[0m\u001b[1;33m,\u001b[0m \u001b[0mcolor\u001b[0m\u001b[1;33m)\u001b[0m\u001b[1;33m:\u001b[0m\u001b[1;33m\u001b[0m\u001b[1;33m\u001b[0m\u001b[0m\n\u001b[1;32m----> 3\u001b[1;33m     trace = go.Bar(\n\u001b[0m\u001b[0;32m      4\u001b[0m         \u001b[0my\u001b[0m \u001b[1;33m=\u001b[0m\u001b[0mdf\u001b[0m\u001b[1;33m[\u001b[0m\u001b[1;34m\"word\"\u001b[0m\u001b[1;33m]\u001b[0m\u001b[1;33m.\u001b[0m\u001b[0mvalues\u001b[0m\u001b[1;33m[\u001b[0m\u001b[1;33m:\u001b[0m\u001b[1;33m:\u001b[0m\u001b[1;33m-\u001b[0m\u001b[1;36m1\u001b[0m\u001b[1;33m]\u001b[0m\u001b[1;33m,\u001b[0m\u001b[1;33m\u001b[0m\u001b[1;33m\u001b[0m\u001b[0m\n\u001b[0;32m      5\u001b[0m         \u001b[0mx\u001b[0m \u001b[1;33m=\u001b[0m \u001b[0mdf\u001b[0m\u001b[1;33m[\u001b[0m\u001b[1;34m\"wordcount\"\u001b[0m\u001b[1;33m]\u001b[0m\u001b[1;33m.\u001b[0m\u001b[0mvalues\u001b[0m\u001b[1;33m[\u001b[0m\u001b[1;33m:\u001b[0m\u001b[1;33m:\u001b[0m\u001b[1;33m-\u001b[0m\u001b[1;36m1\u001b[0m\u001b[1;33m]\u001b[0m\u001b[1;33m,\u001b[0m\u001b[1;33m\u001b[0m\u001b[1;33m\u001b[0m\u001b[0m\n",
      "\u001b[1;31mNameError\u001b[0m: name 'go' is not defined"
     ]
    }
   ],
   "source": [
    "## Get the bar chart from positive reviews ##\n",
    "freq_dict = defaultdict(int)\n",
    "for sent in positive_review[\"reviews\"]:\n",
    "    for word in generate_ngrams(sent):\n",
    "        freq_dict[word] += 1\n",
    "fd_sorted = pd.DataFrame(sorted(freq_dict.items(), key=lambda x: x[1])[::-1])\n",
    "fd_sorted.columns = [\"word\", \"wordcount\"]\n",
    "trace0 = horizontal_bar_chart(fd_sorted.head(20), 'blue')\n",
    "\n",
    "\n",
    "## Get the bar chart from neutral reviews ##\n",
    "freq_dict = defaultdict(int)\n",
    "for sent in neutral_review[\"reviews\"]:\n",
    "    for word in generate_ngrams(sent):\n",
    "        freq_dict[word] += 1\n",
    "fd_sorted = pd.DataFrame(sorted(freq_dict.items(), key=lambda x: x[1])[::-1])\n",
    "fd_sorted.columns = [\"word\", \"wordcount\"]\n",
    "trace1 = horizontal_bar_chart(fd_sorted.head(20), 'purple')"
   ]
  },
  {
   "cell_type": "code",
   "execution_count": null,
   "id": "c245b8aa",
   "metadata": {
    "execution": {
     "iopub.execute_input": "2022-05-08T15:08:16.002253Z",
     "iopub.status.busy": "2022-05-08T15:08:16.001718Z",
     "iopub.status.idle": "2022-05-08T15:08:16.027114Z",
     "shell.execute_reply": "2022-05-08T15:08:16.026377Z"
    },
    "papermill": {
     "duration": 0.182993,
     "end_time": "2022-05-08T15:08:16.028986",
     "exception": false,
     "start_time": "2022-05-08T15:08:15.845993",
     "status": "completed"
    },
    "tags": []
   },
   "outputs": [],
   "source": [
    "## Get the bar chart from negative reviews ##\n",
    "freq_dict = defaultdict(int)\n",
    "for sent in negative_review[\"reviews\"]:\n",
    "    for word in generate_ngrams(sent):\n",
    "        freq_dict[word] += 1\n",
    "fd_sorted = pd.DataFrame(sorted(freq_dict.items(), key=lambda x: x[1])[::-1])\n",
    "fd_sorted.columns = [\"word\", \"wordcount\"]\n",
    "trace2 = horizontal_bar_chart(fd_sorted.head(20), 'yellow')"
   ]
  },
  {
   "cell_type": "code",
   "execution_count": null,
   "id": "48b4a521",
   "metadata": {
    "execution": {
     "iopub.execute_input": "2022-05-08T15:08:16.341694Z",
     "iopub.status.busy": "2022-05-08T15:08:16.341405Z",
     "iopub.status.idle": "2022-05-08T15:08:16.494749Z",
     "shell.execute_reply": "2022-05-08T15:08:16.493877Z"
    },
    "papermill": {
     "duration": 0.311473,
     "end_time": "2022-05-08T15:08:16.497775",
     "exception": false,
     "start_time": "2022-05-08T15:08:16.186302",
     "status": "completed"
    },
    "tags": []
   },
   "outputs": [],
   "source": [
    "# Creating two subplots\n",
    "fig = tools.make_subplots(rows=3, cols=1, vertical_spacing = 0.04,\n",
    "                          subplot_titles=[\"Frequent words of positive reviews\", \"Frequent words of neutral reviews\",\n",
    "                                          \"Frequent words of negative reviews\"])\n",
    "fig.append_trace(trace0, 1, 1)\n",
    "fig.append_trace(trace1, 2, 1)\n",
    "fig.append_trace(trace2, 3, 1)\n",
    "fig['layout'].update(height=1200, width=900, paper_bgcolor='rgb(233,233,233)', title=\"Word Count Plots\")\n",
    "iplot(fig, filename='word-plots')"
   ]
  },
  {
   "cell_type": "markdown",
   "id": "4c1ed167",
   "metadata": {
    "papermill": {
     "duration": 0.159183,
     "end_time": "2022-05-08T15:08:16.819192",
     "exception": false,
     "start_time": "2022-05-08T15:08:16.660009",
     "status": "completed"
    },
    "tags": []
   },
   "source": [
    "With ngram, not much information is gathered for sentiments based on one word."
   ]
  },
  {
   "cell_type": "markdown",
   "id": "8ba6eb3e",
   "metadata": {
    "papermill": {
     "duration": 0.160102,
     "end_time": "2022-05-08T15:08:17.139567",
     "exception": false,
     "start_time": "2022-05-08T15:08:16.979465",
     "status": "completed"
    },
    "tags": []
   },
   "source": [
    "### n > 1"
   ]
  },
  {
   "cell_type": "code",
   "execution_count": null,
   "id": "4d4abf30",
   "metadata": {
    "execution": {
     "iopub.execute_input": "2022-05-08T15:08:17.461783Z",
     "iopub.status.busy": "2022-05-08T15:08:17.461500Z",
     "iopub.status.idle": "2022-05-08T15:08:18.133489Z",
     "shell.execute_reply": "2022-05-08T15:08:18.132778Z"
    },
    "papermill": {
     "duration": 0.834661,
     "end_time": "2022-05-08T15:08:18.135572",
     "exception": false,
     "start_time": "2022-05-08T15:08:17.300911",
     "status": "completed"
    },
    "tags": []
   },
   "outputs": [],
   "source": [
    "## Get the bar chart from positive reviews ##\n",
    "freq_dict = defaultdict(int)\n",
    "for sent in positive_review[\"reviews\"]:\n",
    "    for word in generate_ngrams(sent, 2):\n",
    "        freq_dict[word] += 1\n",
    "fd_sorted = pd.DataFrame(sorted(freq_dict.items(), key=lambda x: x[1])[::-1])\n",
    "fd_sorted.columns = [\"word\", \"wordcount\"]\n",
    "trace0 = horizontal_bar_chart(fd_sorted.head(20), 'blue')\n",
    "\n",
    "\n",
    "## Get the bar chart from neutral reviews ##\n",
    "freq_dict = defaultdict(int)\n",
    "for sent in neutral_review[\"reviews\"]:\n",
    "    for word in generate_ngrams(sent, 2):\n",
    "        freq_dict[word] += 1\n",
    "fd_sorted = pd.DataFrame(sorted(freq_dict.items(), key=lambda x: x[1])[::-1])\n",
    "fd_sorted.columns = [\"word\", \"wordcount\"]\n",
    "trace1 = horizontal_bar_chart(fd_sorted.head(20), 'purple')\n",
    "\n",
    "\n",
    "## Get the bar chart from negative reviews ##\n",
    "freq_dict = defaultdict(int)\n",
    "for sent in negative_review[\"reviews\"]:\n",
    "    for word in generate_ngrams(sent, 2):\n",
    "        freq_dict[word] += 1\n",
    "fd_sorted = pd.DataFrame(sorted(freq_dict.items(), key=lambda x: x[1])[::-1])\n",
    "fd_sorted.columns = [\"word\", \"wordcount\"]\n",
    "trace2 = horizontal_bar_chart(fd_sorted.head(20), 'yellow')"
   ]
  },
  {
   "cell_type": "code",
   "execution_count": null,
   "id": "065a5e39",
   "metadata": {
    "execution": {
     "iopub.execute_input": "2022-05-08T15:08:18.459209Z",
     "iopub.status.busy": "2022-05-08T15:08:18.458671Z",
     "iopub.status.idle": "2022-05-08T15:08:18.516143Z",
     "shell.execute_reply": "2022-05-08T15:08:18.515258Z"
    },
    "papermill": {
     "duration": 0.22196,
     "end_time": "2022-05-08T15:08:18.519441",
     "exception": false,
     "start_time": "2022-05-08T15:08:18.297481",
     "status": "completed"
    },
    "tags": []
   },
   "outputs": [],
   "source": [
    "# Creating two subplots\n",
    "fig = tools.make_subplots(rows=3, cols=1, vertical_spacing = 0.04,\n",
    "                          subplot_titles=[\"Frequent words of positive reviews\", \"Frequent words of neutral reviews\",\n",
    "                                          \"Frequent words of negative reviews\"])\n",
    "fig.append_trace(trace0, 1, 1)\n",
    "fig.append_trace(trace1, 2, 1)\n",
    "fig.append_trace(trace2, 3, 1)\n",
    "fig['layout'].update(height=1200, width=900, paper_bgcolor='rgb(233,233,233)', title=\"Word Count Plots\")\n",
    "iplot(fig, filename='word-plots')"
   ]
  },
  {
   "cell_type": "markdown",
   "id": "affb0573",
   "metadata": {
    "papermill": {
     "duration": 0.16476,
     "end_time": "2022-05-08T15:08:18.851063",
     "exception": false,
     "start_time": "2022-05-08T15:08:18.686303",
     "status": "completed"
    },
    "tags": []
   },
   "source": [
    "In bigram (n = 2) analysis, where there are two words, somehow justify the sentiment categories."
   ]
  },
  {
   "cell_type": "code",
   "execution_count": null,
   "id": "50d01f74",
   "metadata": {
    "execution": {
     "iopub.execute_input": "2022-05-08T15:08:19.183870Z",
     "iopub.status.busy": "2022-05-08T15:08:19.183609Z",
     "iopub.status.idle": "2022-05-08T15:08:19.919686Z",
     "shell.execute_reply": "2022-05-08T15:08:19.918937Z"
    },
    "papermill": {
     "duration": 0.905537,
     "end_time": "2022-05-08T15:08:19.921869",
     "exception": false,
     "start_time": "2022-05-08T15:08:19.016332",
     "status": "completed"
    },
    "tags": []
   },
   "outputs": [],
   "source": [
    "## Get the bar chart from positive reviews ##\n",
    "freq_dict = defaultdict(int)\n",
    "for sent in positive_review[\"reviews\"]:\n",
    "    for word in generate_ngrams(sent, 3):\n",
    "        freq_dict[word] += 1\n",
    "fd_sorted = pd.DataFrame(sorted(freq_dict.items(), key=lambda x: x[1])[::-1])\n",
    "fd_sorted.columns = [\"word\", \"wordcount\"]\n",
    "trace0 = horizontal_bar_chart(fd_sorted.head(20), 'blue')\n",
    "\n",
    "\n",
    "## Get the bar chart from neutral reviews ##\n",
    "freq_dict = defaultdict(int)\n",
    "for sent in neutral_review[\"reviews\"]:\n",
    "    for word in generate_ngrams(sent, 3):\n",
    "        freq_dict[word] += 1\n",
    "fd_sorted = pd.DataFrame(sorted(freq_dict.items(), key=lambda x: x[1])[::-1])\n",
    "fd_sorted.columns = [\"word\", \"wordcount\"]\n",
    "trace1 = horizontal_bar_chart(fd_sorted.head(20), 'purple')\n",
    "\n",
    "\n",
    "## Get the bar chart from negative reviews ##\n",
    "freq_dict = defaultdict(int)\n",
    "for sent in negative_review[\"reviews\"]:\n",
    "    for word in generate_ngrams(sent, 3):\n",
    "        freq_dict[word] += 1\n",
    "fd_sorted = pd.DataFrame(sorted(freq_dict.items(), key=lambda x: x[1])[::-1])\n",
    "fd_sorted.columns = [\"word\", \"wordcount\"]\n",
    "trace2 = horizontal_bar_chart(fd_sorted.head(20), 'yellow')"
   ]
  },
  {
   "cell_type": "code",
   "execution_count": null,
   "id": "70bbf935",
   "metadata": {
    "execution": {
     "iopub.execute_input": "2022-05-08T15:08:20.260501Z",
     "iopub.status.busy": "2022-05-08T15:08:20.259963Z",
     "iopub.status.idle": "2022-05-08T15:08:20.319735Z",
     "shell.execute_reply": "2022-05-08T15:08:20.318932Z"
    },
    "papermill": {
     "duration": 0.23037,
     "end_time": "2022-05-08T15:08:20.322521",
     "exception": false,
     "start_time": "2022-05-08T15:08:20.092151",
     "status": "completed"
    },
    "tags": []
   },
   "outputs": [],
   "source": [
    "# Creating two subplots\n",
    "fig = tools.make_subplots(rows=3, cols=1, vertical_spacing = 0.04,\n",
    "                          subplot_titles=[\"Frequent words of positive reviews\", \"Frequent words of neutral reviews\",\n",
    "                                          \"Frequent words of negative reviews\"])\n",
    "fig.append_trace(trace0, 1, 1)\n",
    "fig.append_trace(trace1, 2, 1)\n",
    "fig.append_trace(trace2, 3, 1)\n",
    "fig['layout'].update(height=1200, width=900, paper_bgcolor='rgb(233,233,233)', title=\"Word Count Plots\")\n",
    "iplot(fig, filename='word-plots')"
   ]
  }
 ],
 "metadata": {
  "kernelspec": {
   "display_name": "Python 3 (ipykernel)",
   "language": "python",
   "name": "python3"
  },
  "language_info": {
   "codemirror_mode": {
    "name": "ipython",
    "version": 3
   },
   "file_extension": ".py",
   "mimetype": "text/x-python",
   "name": "python",
   "nbconvert_exporter": "python",
   "pygments_lexer": "ipython3",
   "version": "3.9.13"
  },
  "papermill": {
   "default_parameters": {},
   "duration": 450.345431,
   "end_time": "2022-05-08T15:15:13.172596",
   "environment_variables": {},
   "exception": null,
   "input_path": "__notebook__.ipynb",
   "output_path": "__notebook__.ipynb",
   "parameters": {},
   "start_time": "2022-05-08T15:07:42.827165",
   "version": "2.3.4"
  }
 },
 "nbformat": 4,
 "nbformat_minor": 5
}
